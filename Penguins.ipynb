{
 "cells":[
  {
   "cell_type":"markdown",
   "source":[
    "### Pobieranie danych"
   ],
   "attachments":{
    
   },
   "metadata":{
    "datalore":{
     "type":"MD",
     "hide_input_from_viewers":false,
     "hide_output_from_viewers":false
    }
   }
  },
  {
   "cell_type":"code",
   "source":[
    "import os\n",
    "import pandas as pd\n",
    "import urllib.request\n",
    "from seaborn import load_dataset"
   ],
   "execution_count":null,
   "outputs":[
    
   ],
   "metadata":{
    "datalore":{
     "type":"CODE",
     "hide_input_from_viewers":false,
     "hide_output_from_viewers":false
    }
   }
  },
  {
   "cell_type":"code",
   "source":[
    "\n",
    "all_of_data = load_dataset('penguins')\n",
    "\n",
    "all_of_data.head(100)"
   ],
   "execution_count":null,
   "outputs":[
    {
     "data":{
      "text\/html":[
       "<div>\n",
       "<style scoped>\n",
       "    .dataframe tbody tr th:only-of-type {\n",
       "        vertical-align: middle;\n",
       "    }\n",
       "\n",
       "    .dataframe tbody tr th {\n",
       "        vertical-align: top;\n",
       "    }\n",
       "\n",
       "    .dataframe thead th {\n",
       "        text-align: right;\n",
       "    }\n",
       "<\/style>\n",
       "<table border=\"1\" class=\"dataframe\">\n",
       "  <thead>\n",
       "    <tr style=\"text-align: right;\">\n",
       "      <th><\/th>\n",
       "      <th>species<\/th>\n",
       "      <th>island<\/th>\n",
       "      <th>bill_length_mm<\/th>\n",
       "      <th>bill_depth_mm<\/th>\n",
       "      <th>flipper_length_mm<\/th>\n",
       "      <th>body_mass_g<\/th>\n",
       "      <th>sex<\/th>\n",
       "    <\/tr>\n",
       "  <\/thead>\n",
       "  <tbody>\n",
       "    <tr>\n",
       "      <th>0<\/th>\n",
       "      <td>Adelie<\/td>\n",
       "      <td>Torgersen<\/td>\n",
       "      <td>39.1<\/td>\n",
       "      <td>18.7<\/td>\n",
       "      <td>181.0<\/td>\n",
       "      <td>3750.0<\/td>\n",
       "      <td>Male<\/td>\n",
       "    <\/tr>\n",
       "    <tr>\n",
       "      <th>1<\/th>\n",
       "      <td>Adelie<\/td>\n",
       "      <td>Torgersen<\/td>\n",
       "      <td>39.5<\/td>\n",
       "      <td>17.4<\/td>\n",
       "      <td>186.0<\/td>\n",
       "      <td>3800.0<\/td>\n",
       "      <td>Female<\/td>\n",
       "    <\/tr>\n",
       "    <tr>\n",
       "      <th>2<\/th>\n",
       "      <td>Adelie<\/td>\n",
       "      <td>Torgersen<\/td>\n",
       "      <td>40.3<\/td>\n",
       "      <td>18.0<\/td>\n",
       "      <td>195.0<\/td>\n",
       "      <td>3250.0<\/td>\n",
       "      <td>Female<\/td>\n",
       "    <\/tr>\n",
       "    <tr>\n",
       "      <th>3<\/th>\n",
       "      <td>Adelie<\/td>\n",
       "      <td>Torgersen<\/td>\n",
       "      <td>NaN<\/td>\n",
       "      <td>NaN<\/td>\n",
       "      <td>NaN<\/td>\n",
       "      <td>NaN<\/td>\n",
       "      <td>NaN<\/td>\n",
       "    <\/tr>\n",
       "    <tr>\n",
       "      <th>4<\/th>\n",
       "      <td>Adelie<\/td>\n",
       "      <td>Torgersen<\/td>\n",
       "      <td>36.7<\/td>\n",
       "      <td>19.3<\/td>\n",
       "      <td>193.0<\/td>\n",
       "      <td>3450.0<\/td>\n",
       "      <td>Female<\/td>\n",
       "    <\/tr>\n",
       "    <tr>\n",
       "      <th>...<\/th>\n",
       "      <td>...<\/td>\n",
       "      <td>...<\/td>\n",
       "      <td>...<\/td>\n",
       "      <td>...<\/td>\n",
       "      <td>...<\/td>\n",
       "      <td>...<\/td>\n",
       "      <td>...<\/td>\n",
       "    <\/tr>\n",
       "    <tr>\n",
       "      <th>95<\/th>\n",
       "      <td>Adelie<\/td>\n",
       "      <td>Dream<\/td>\n",
       "      <td>40.8<\/td>\n",
       "      <td>18.9<\/td>\n",
       "      <td>208.0<\/td>\n",
       "      <td>4300.0<\/td>\n",
       "      <td>Male<\/td>\n",
       "    <\/tr>\n",
       "    <tr>\n",
       "      <th>96<\/th>\n",
       "      <td>Adelie<\/td>\n",
       "      <td>Dream<\/td>\n",
       "      <td>38.1<\/td>\n",
       "      <td>18.6<\/td>\n",
       "      <td>190.0<\/td>\n",
       "      <td>3700.0<\/td>\n",
       "      <td>Female<\/td>\n",
       "    <\/tr>\n",
       "    <tr>\n",
       "      <th>97<\/th>\n",
       "      <td>Adelie<\/td>\n",
       "      <td>Dream<\/td>\n",
       "      <td>40.3<\/td>\n",
       "      <td>18.5<\/td>\n",
       "      <td>196.0<\/td>\n",
       "      <td>4350.0<\/td>\n",
       "      <td>Male<\/td>\n",
       "    <\/tr>\n",
       "    <tr>\n",
       "      <th>98<\/th>\n",
       "      <td>Adelie<\/td>\n",
       "      <td>Dream<\/td>\n",
       "      <td>33.1<\/td>\n",
       "      <td>16.1<\/td>\n",
       "      <td>178.0<\/td>\n",
       "      <td>2900.0<\/td>\n",
       "      <td>Female<\/td>\n",
       "    <\/tr>\n",
       "    <tr>\n",
       "      <th>99<\/th>\n",
       "      <td>Adelie<\/td>\n",
       "      <td>Dream<\/td>\n",
       "      <td>43.2<\/td>\n",
       "      <td>18.5<\/td>\n",
       "      <td>192.0<\/td>\n",
       "      <td>4100.0<\/td>\n",
       "      <td>Male<\/td>\n",
       "    <\/tr>\n",
       "  <\/tbody>\n",
       "<\/table>\n",
       "<p>100 rows × 7 columns<\/p>\n",
       "<\/div>"
      ]
     },
     "metadata":{
      
     },
     "output_type":"display_data"
    }
   ],
   "metadata":{
    "datalore":{
     "type":"CODE",
     "hide_input_from_viewers":false,
     "hide_output_from_viewers":false
    }
   }
  },
  {
   "cell_type":"markdown",
   "source":[
    "### Czyszczenie danych z rekordow NAN"
   ],
   "attachments":{
    
   },
   "metadata":{
    "datalore":{
     "type":"MD",
     "hide_input_from_viewers":false,
     "hide_output_from_viewers":false
    }
   }
  },
  {
   "cell_type":"code",
   "source":[
    "nan_df = all_of_data[all_of_data.isna().any(axis=1)]\n",
    "\n",
    "nan_df.head()"
   ],
   "execution_count":null,
   "outputs":[
    {
     "data":{
      "text\/html":[
       "<div>\n",
       "<style scoped>\n",
       "    .dataframe tbody tr th:only-of-type {\n",
       "        vertical-align: middle;\n",
       "    }\n",
       "\n",
       "    .dataframe tbody tr th {\n",
       "        vertical-align: top;\n",
       "    }\n",
       "\n",
       "    .dataframe thead th {\n",
       "        text-align: right;\n",
       "    }\n",
       "<\/style>\n",
       "<table border=\"1\" class=\"dataframe\">\n",
       "  <thead>\n",
       "    <tr style=\"text-align: right;\">\n",
       "      <th><\/th>\n",
       "      <th>species<\/th>\n",
       "      <th>island<\/th>\n",
       "      <th>bill_length_mm<\/th>\n",
       "      <th>bill_depth_mm<\/th>\n",
       "      <th>flipper_length_mm<\/th>\n",
       "      <th>body_mass_g<\/th>\n",
       "      <th>sex<\/th>\n",
       "    <\/tr>\n",
       "  <\/thead>\n",
       "  <tbody>\n",
       "    <tr>\n",
       "      <th>3<\/th>\n",
       "      <td>Adelie<\/td>\n",
       "      <td>Torgersen<\/td>\n",
       "      <td>NaN<\/td>\n",
       "      <td>NaN<\/td>\n",
       "      <td>NaN<\/td>\n",
       "      <td>NaN<\/td>\n",
       "      <td>NaN<\/td>\n",
       "    <\/tr>\n",
       "    <tr>\n",
       "      <th>8<\/th>\n",
       "      <td>Adelie<\/td>\n",
       "      <td>Torgersen<\/td>\n",
       "      <td>34.1<\/td>\n",
       "      <td>18.1<\/td>\n",
       "      <td>193.0<\/td>\n",
       "      <td>3475.0<\/td>\n",
       "      <td>NaN<\/td>\n",
       "    <\/tr>\n",
       "    <tr>\n",
       "      <th>9<\/th>\n",
       "      <td>Adelie<\/td>\n",
       "      <td>Torgersen<\/td>\n",
       "      <td>42.0<\/td>\n",
       "      <td>20.2<\/td>\n",
       "      <td>190.0<\/td>\n",
       "      <td>4250.0<\/td>\n",
       "      <td>NaN<\/td>\n",
       "    <\/tr>\n",
       "    <tr>\n",
       "      <th>10<\/th>\n",
       "      <td>Adelie<\/td>\n",
       "      <td>Torgersen<\/td>\n",
       "      <td>37.8<\/td>\n",
       "      <td>17.1<\/td>\n",
       "      <td>186.0<\/td>\n",
       "      <td>3300.0<\/td>\n",
       "      <td>NaN<\/td>\n",
       "    <\/tr>\n",
       "    <tr>\n",
       "      <th>11<\/th>\n",
       "      <td>Adelie<\/td>\n",
       "      <td>Torgersen<\/td>\n",
       "      <td>37.8<\/td>\n",
       "      <td>17.3<\/td>\n",
       "      <td>180.0<\/td>\n",
       "      <td>3700.0<\/td>\n",
       "      <td>NaN<\/td>\n",
       "    <\/tr>\n",
       "  <\/tbody>\n",
       "<\/table>\n",
       "<\/div>"
      ]
     },
     "metadata":{
      
     },
     "output_type":"display_data"
    }
   ],
   "metadata":{
    "datalore":{
     "type":"CODE",
     "hide_input_from_viewers":false,
     "hide_output_from_viewers":false
    }
   }
  },
  {
   "cell_type":"code",
   "source":[
    "all_of_data = all_of_data.dropna()\n",
    "all_of_data.head()"
   ],
   "execution_count":null,
   "outputs":[
    {
     "data":{
      "text\/html":[
       "<div>\n",
       "<style scoped>\n",
       "    .dataframe tbody tr th:only-of-type {\n",
       "        vertical-align: middle;\n",
       "    }\n",
       "\n",
       "    .dataframe tbody tr th {\n",
       "        vertical-align: top;\n",
       "    }\n",
       "\n",
       "    .dataframe thead th {\n",
       "        text-align: right;\n",
       "    }\n",
       "<\/style>\n",
       "<table border=\"1\" class=\"dataframe\">\n",
       "  <thead>\n",
       "    <tr style=\"text-align: right;\">\n",
       "      <th><\/th>\n",
       "      <th>species<\/th>\n",
       "      <th>island<\/th>\n",
       "      <th>bill_length_mm<\/th>\n",
       "      <th>bill_depth_mm<\/th>\n",
       "      <th>flipper_length_mm<\/th>\n",
       "      <th>body_mass_g<\/th>\n",
       "      <th>sex<\/th>\n",
       "    <\/tr>\n",
       "  <\/thead>\n",
       "  <tbody>\n",
       "    <tr>\n",
       "      <th>0<\/th>\n",
       "      <td>Adelie<\/td>\n",
       "      <td>Torgersen<\/td>\n",
       "      <td>39.1<\/td>\n",
       "      <td>18.7<\/td>\n",
       "      <td>181.0<\/td>\n",
       "      <td>3750.0<\/td>\n",
       "      <td>Male<\/td>\n",
       "    <\/tr>\n",
       "    <tr>\n",
       "      <th>1<\/th>\n",
       "      <td>Adelie<\/td>\n",
       "      <td>Torgersen<\/td>\n",
       "      <td>39.5<\/td>\n",
       "      <td>17.4<\/td>\n",
       "      <td>186.0<\/td>\n",
       "      <td>3800.0<\/td>\n",
       "      <td>Female<\/td>\n",
       "    <\/tr>\n",
       "    <tr>\n",
       "      <th>2<\/th>\n",
       "      <td>Adelie<\/td>\n",
       "      <td>Torgersen<\/td>\n",
       "      <td>40.3<\/td>\n",
       "      <td>18.0<\/td>\n",
       "      <td>195.0<\/td>\n",
       "      <td>3250.0<\/td>\n",
       "      <td>Female<\/td>\n",
       "    <\/tr>\n",
       "    <tr>\n",
       "      <th>4<\/th>\n",
       "      <td>Adelie<\/td>\n",
       "      <td>Torgersen<\/td>\n",
       "      <td>36.7<\/td>\n",
       "      <td>19.3<\/td>\n",
       "      <td>193.0<\/td>\n",
       "      <td>3450.0<\/td>\n",
       "      <td>Female<\/td>\n",
       "    <\/tr>\n",
       "    <tr>\n",
       "      <th>5<\/th>\n",
       "      <td>Adelie<\/td>\n",
       "      <td>Torgersen<\/td>\n",
       "      <td>39.3<\/td>\n",
       "      <td>20.6<\/td>\n",
       "      <td>190.0<\/td>\n",
       "      <td>3650.0<\/td>\n",
       "      <td>Male<\/td>\n",
       "    <\/tr>\n",
       "  <\/tbody>\n",
       "<\/table>\n",
       "<\/div>"
      ]
     },
     "metadata":{
      
     },
     "output_type":"display_data"
    }
   ],
   "metadata":{
    "datalore":{
     "type":"CODE",
     "hide_input_from_viewers":false,
     "hide_output_from_viewers":false
    }
   }
  },
  {
   "cell_type":"markdown",
   "source":[
    "### Rozdzielenie danych na dwa zbiory X,Y"
   ],
   "attachments":{
    
   },
   "metadata":{
    "datalore":{
     "type":"MD",
     "hide_input_from_viewers":false,
     "hide_output_from_viewers":false
    }
   }
  },
  {
   "cell_type":"code",
   "source":[
    "from sklearn.metrics import mean_squared_error\n",
    "from sklearn.model_selection import train_test_split\n",
    "from sklearn.linear_model import LinearRegression\n",
    "import numpy as np\n",
    "import matplotlib.pyplot as plt"
   ],
   "execution_count":null,
   "outputs":[
    
   ],
   "metadata":{
    "datalore":{
     "type":"CODE",
     "hide_input_from_viewers":false,
     "hide_output_from_viewers":false
    }
   }
  },
  {
   "cell_type":"code",
   "source":[
    "\n",
    "X = np.asarray(all_of_data['flipper_length_mm'].apply(lambda x: x\/1000), dtype='float64')\n",
    "Y = np.asarray(all_of_data['body_mass_g'].apply(lambda x: x\/1000), dtype='float64')"
   ],
   "execution_count":null,
   "outputs":[
    
   ],
   "metadata":{
    "datalore":{
     "type":"CODE",
     "hide_input_from_viewers":false,
     "hide_output_from_viewers":false
    }
   }
  },
  {
   "cell_type":"markdown",
   "source":[
    "Przydatne infromacje:\n",
    "- intercept_ -> podaje wspolczynnik przy x0 \n",
    "- coef_ -> podaje liste wspolczynnikow przy [x1,x2,x3]"
   ],
   "attachments":{
    
   },
   "metadata":{
    "datalore":{
     "type":"MD",
     "hide_input_from_viewers":false,
     "hide_output_from_viewers":false
    }
   }
  },
  {
   "cell_type":"markdown",
   "source":[
    "## Model liniowy bez podzialu na dane testowe i treningowe"
   ],
   "attachments":{
    
   },
   "metadata":{
    "datalore":{
     "type":"MD",
     "hide_input_from_viewers":false,
     "hide_output_from_viewers":false
    }
   }
  },
  {
   "cell_type":"code",
   "source":[
    "model_lin = LinearRegression()\n",
    "model_lin.fit(X.reshape(-1,1), Y)\n",
    "X_test = np.linspace(start=X.min(), stop=X.max(), num=300)\n",
    "Y_pred = model_lin.predict(X_test.reshape(-1,1))\n",
    "\n",
    "plt.figure(figsize=(20,14))\n",
    "plt.scatter(X,Y)\n",
    "plt.plot(X_test, Y_pred, color='tab:orange', linewidth=3)\n",
    "plt.xlabel('Bill Length [m]')\n",
    "plt.ylabel('Body Mass [kg]')\n",
    "\n",
    "plt.grid()\n",
    "plt.show()"
   ],
   "execution_count":null,
   "outputs":[
    
   ],
   "metadata":{
    "datalore":{
     "type":"CODE",
     "hide_input_from_viewers":false,
     "hide_output_from_viewers":false
    }
   }
  },
  {
   "cell_type":"markdown",
   "source":[
    "### Parametr a w modelu liniowym"
   ],
   "attachments":{
    
   },
   "metadata":{
    "datalore":{
     "type":"MD",
     "hide_input_from_viewers":false,
     "hide_output_from_viewers":false
    }
   }
  },
  {
   "cell_type":"code",
   "source":[
    "a=str(np.round(model_lin.coef_,5)[0])\n",
    "print(\"a=\"+a)"
   ],
   "execution_count":null,
   "outputs":[
    {
     "name":"stdout",
     "text":[
      "a=50.15327\n"
     ],
     "output_type":"stream"
    }
   ],
   "metadata":{
    "datalore":{
     "type":"CODE",
     "hide_input_from_viewers":false,
     "hide_output_from_viewers":false
    }
   }
  },
  {
   "cell_type":"markdown",
   "source":[
    "### Parametr b w modelu liniowym"
   ],
   "attachments":{
    
   },
   "metadata":{
    "datalore":{
     "type":"MD",
     "hide_input_from_viewers":false,
     "hide_output_from_viewers":false
    }
   }
  },
  {
   "cell_type":"code",
   "source":[
    "b=str(np.round(model_lin.intercept_,5))\n",
    "print(\"b=\"+ b)"
   ],
   "execution_count":null,
   "outputs":[
    {
     "name":"stdout",
     "text":[
      "b=-5.87209\n"
     ],
     "output_type":"stream"
    }
   ],
   "metadata":{
    "datalore":{
     "type":"CODE",
     "hide_input_from_viewers":false,
     "hide_output_from_viewers":false
    }
   }
  },
  {
   "cell_type":"markdown",
   "source":[
    "### Postac ogolna modelu liniowego bez podzialu na dane testowe i treningowe"
   ],
   "attachments":{
    
   },
   "metadata":{
    "datalore":{
     "type":"MD",
     "hide_input_from_viewers":false,
     "hide_output_from_viewers":false
    }
   }
  },
  {
   "cell_type":"code",
   "source":[
    "print(f'y={a}x+({b})')"
   ],
   "execution_count":null,
   "outputs":[
    {
     "name":"stdout",
     "text":[
      "y=50.15327x+(-5.87209)\n"
     ],
     "output_type":"stream"
    }
   ],
   "metadata":{
    "datalore":{
     "type":"CODE",
     "hide_input_from_viewers":false,
     "hide_output_from_viewers":false
    }
   }
  },
  {
   "cell_type":"markdown",
   "source":[
    "### Wskaznik jakosci modelu liniowego bez podzialu na dane testowe i treningowe"
   ],
   "attachments":{
    
   },
   "metadata":{
    "datalore":{
     "type":"MD",
     "hide_input_from_viewers":false,
     "hide_output_from_viewers":false
    }
   }
  },
  {
   "cell_type":"code",
   "source":[
    "\n",
    "MSE_LIN_WITHOUT_TEST = np.round(mean_squared_error(Y, model_lin.predict(X.reshape(-1,1))),4)\n",
    "\n",
    "print(\"Blad srednio-kwadratowy=\"+str(MSE_LIN_WITHOUT_TEST) )"
   ],
   "execution_count":null,
   "outputs":[
    {
     "name":"stdout",
     "text":[
      "Blad srednio-kwadratowy=0.1538\n"
     ],
     "output_type":"stream"
    }
   ],
   "metadata":{
    "datalore":{
     "type":"CODE",
     "hide_input_from_viewers":false,
     "hide_output_from_viewers":false
    }
   }
  },
  {
   "cell_type":"markdown",
   "source":[
    "# Model liniowy i kwadratowy z podzialem na dane testowe i treningowe 20\/80\n",
    "- testowe=20% \n",
    "- treningowe 80%"
   ],
   "attachments":{
    
   },
   "metadata":{
    "datalore":{
     "type":"MD",
     "hide_input_from_viewers":false,
     "hide_output_from_viewers":false
    }
   }
  },
  {
   "cell_type":"code",
   "source":[
    "X_train, X_test, Y_train, Y_test = train_test_split(X, Y,test_size=0.2,train_size=0.8)"
   ],
   "execution_count":null,
   "outputs":[
    
   ],
   "metadata":{
    "datalore":{
     "type":"CODE",
     "hide_input_from_viewers":false,
     "hide_output_from_viewers":false
    }
   }
  },
  {
   "cell_type":"code",
   "source":[
    "model_lin = LinearRegression()\n",
    "model_lin.fit(X_train.reshape(-1,1), \n",
    "              Y_train)\n",
    "\n",
    "a=np.round(model_lin.coef_,5)[0]\n",
    "b=np.round(model_lin.intercept_,5)\n",
    "\n",
    "print(f'Parametry modelu liniowego: a={a}, b={b}')\n",
    "MSE_LIN_TEST = np.round(mean_squared_error(Y_test, model_lin.predict(X_test.reshape(-1,1))),4)\n",
    "\n",
    "print(f'Błąd średniokwadratowy modelu liniowego: {MSE_LIN_TEST}')"
   ],
   "execution_count":null,
   "outputs":[
    {
     "name":"stdout",
     "text":[
      "Parametry modelu liniowego: a=51.51044, b=-6.14387\n",
      "Błąd średniokwadratowy modelu liniowego: 0.1268\n"
     ],
     "output_type":"stream"
    }
   ],
   "metadata":{
    "datalore":{
     "type":"CODE",
     "hide_input_from_viewers":false,
     "hide_output_from_viewers":false
    }
   }
  },
  {
   "cell_type":"markdown",
   "source":[
    "### Postac ogolna modelu liniowego z podzialem na dane testowe i treningowe"
   ],
   "attachments":{
    
   },
   "metadata":{
    "datalore":{
     "type":"MD",
     "hide_input_from_viewers":false,
     "hide_output_from_viewers":false
    }
   }
  },
  {
   "cell_type":"code",
   "source":[
    "print(f'y={a}x+{b}')"
   ],
   "execution_count":null,
   "outputs":[
    {
     "name":"stdout",
     "text":[
      "y=51.51044x+-6.14387\n"
     ],
     "output_type":"stream"
    }
   ],
   "metadata":{
    "datalore":{
     "type":"CODE",
     "hide_input_from_viewers":false,
     "hide_output_from_viewers":false
    }
   }
  },
  {
   "cell_type":"markdown",
   "source":[
    "### Uogolniony model liniowy-wielomianowy (uogólniony liniowy) stopnia 2"
   ],
   "attachments":{
    
   },
   "metadata":{
    "datalore":{
     "type":"MD",
     "hide_input_from_viewers":false,
     "hide_output_from_viewers":false
    }
   }
  },
  {
   "cell_type":"code",
   "source":[
    "from sklearn.preprocessing import PolynomialFeatures\n",
    "\n",
    "model_GLM = LinearRegression()\n",
    "\n",
    "gen_features = PolynomialFeatures(degree=2, include_bias=True, interaction_only=False)\n",
    "\n",
    "model_GLM.fit(gen_features.fit_transform(X_train.reshape(-1,1)), Y_train)\n",
    "a = np.round(model_GLM.coef_[2],4)\n",
    "b = np.round(model_GLM.coef_[1],4)\n",
    "c = np.round(model_GLM.intercept_,4)\n",
    "\n",
    "\n",
    "print(f'Parametry modelu GLM: a={a},b={b},c={c}')\n",
    "MSE_GLM_TEST = np.round(mean_squared_error(Y_test, model_GLM.predict(gen_features.fit_transform(X_test.reshape(-1,1)))),4)\n",
    "print(f'Błąd średniokwadratowy modelu GLM: {MSE_GLM_TEST}')"
   ],
   "execution_count":null,
   "outputs":[
    {
     "name":"stdout",
     "text":[
      "Parametry modelu GLM: a=517.5953,b=-159.3614,c=15.2326\n",
      "Błąd średniokwadratowy modelu GLM: 0.1101\n"
     ],
     "output_type":"stream"
    }
   ],
   "metadata":{
    "datalore":{
     "type":"CODE",
     "hide_input_from_viewers":false,
     "hide_output_from_viewers":false
    }
   }
  },
  {
   "cell_type":"markdown",
   "source":[
    "### Postac ogolna modelu kwadratowego (uogolnionego liniowego)"
   ],
   "attachments":{
    
   },
   "metadata":{
    "datalore":{
     "type":"MD",
     "hide_input_from_viewers":false,
     "hide_output_from_viewers":false
    }
   }
  },
  {
   "cell_type":"code",
   "source":[
    "print(f'y=({a})x^2 + ({b})x + ({c})')"
   ],
   "execution_count":null,
   "outputs":[
    {
     "name":"stdout",
     "text":[
      "y=(517.5953)x^2 + (-159.3614)x + (15.2326)\n"
     ],
     "output_type":"stream"
    }
   ],
   "metadata":{
    "datalore":{
     "type":"CODE",
     "hide_input_from_viewers":false,
     "hide_output_from_viewers":false
    }
   }
  },
  {
   "cell_type":"markdown",
   "source":[
    "### Predykcje modeli \n",
    "* liniowa bez podzialu na testowe i treningowe\n",
    "* liniowa z podzialem na testowe i treningowe\n",
    "* kwadratowa z podzialem na testowe i treningowe"
   ],
   "attachments":{
    
   },
   "metadata":{
    "datalore":{
     "type":"MD",
     "hide_input_from_viewers":false,
     "hide_output_from_viewers":false
    }
   }
  },
  {
   "cell_type":"code",
   "source":[
    "os_x = np.linspace(start=X.min(), stop=X.max(), num=300)\n",
    "\n",
    "y_lin_pred = model_lin.predict(os_x.reshape(-1,1))\n",
    "y_GLM_pred = model_GLM.predict(gen_features.fit_transform(os_x.reshape(-1,1)))"
   ],
   "execution_count":null,
   "outputs":[
    
   ],
   "metadata":{
    "datalore":{
     "type":"CODE",
     "hide_input_from_viewers":false,
     "hide_output_from_viewers":false
    }
   }
  },
  {
   "cell_type":"code",
   "source":[
    "plt.figure(figsize=(20,14))\n",
    "plt.scatter(X_train, Y_train, label='dane treningowe')\n",
    "plt.scatter(X_test, Y_test, edgecolor='black', facecolor='none', label='dane testujące')\n",
    "\n",
    "plt.plot(os_x, y_lin_pred, label='model liniowy 80\/20', color='tab:orange')\n",
    "plt.plot(os_x, y_GLM_pred, label='model GLM 80\/20', color='tab:red')\n",
    "\n",
    "plt.legend(fontsize=20, shadow=True, loc='upper left')\n",
    "\n",
    "plt.xlabel(xlabel='flipper length [m]',fontsize=20)\n",
    "plt.ylabel(ylabel='body mass [kg]',fontsize=20)\n",
    "\n",
    "plt.grid()\n",
    "plt.show()"
   ],
   "execution_count":null,
   "outputs":[
    
   ],
   "metadata":{
    "datalore":{
     "type":"CODE",
     "hide_input_from_viewers":false,
     "hide_output_from_viewers":false
    }
   }
  },
  {
   "cell_type":"markdown",
   "source":[
    "### Porownanie bledow sredniokwadratowych modeli"
   ],
   "attachments":{
    
   },
   "metadata":{
    "datalore":{
     "type":"MD",
     "hide_input_from_viewers":false,
     "hide_output_from_viewers":false
    }
   }
  },
  {
   "cell_type":"code",
   "source":[
    "print(f\"Blad sredniokwadratowy funkcji liniowej bez podzialu na dane testowe i treningowe: {MSE_LIN_WITHOUT_TEST}\")\n",
    "print(f\"Blad sredniokwadratowy funkcji liniowej z danymi testowymi i treningowymi: {MSE_LIN_TEST}\")\n",
    "print(f\"Blad sredniokwadratowy funkcji kwadratowej z danymi testowymi i treningowymi: {MSE_GLM_TEST}\")"
   ],
   "execution_count":null,
   "outputs":[
    {
     "name":"stdout",
     "text":[
      "Blad sredniokwadratowy funkcji liniowej bez podzialu na dane testowe i treningowe: 0.1538\n",
      "Blad sredniokwadratowy funkcji liniowej z danymi testowymi i treningowymi: 0.1268\n",
      "Blad sredniokwadratowy funkcji kwadratowej z danymi testowymi i treningowymi: 0.1101\n"
     ],
     "output_type":"stream"
    }
   ],
   "metadata":{
    "datalore":{
     "type":"CODE",
     "hide_input_from_viewers":false,
     "hide_output_from_viewers":false
    }
   }
  },
  {
   "cell_type":"markdown",
   "source":[
    "# Model liniowy i kwadratowy z podzialem na dane testowe i treningowe 50\/50\n",
    "- testowe 50%\n",
    "- treningowe 50%"
   ],
   "attachments":{
    
   },
   "metadata":{
    "datalore":{
     "type":"MD",
     "hide_input_from_viewers":false,
     "hide_output_from_viewers":false
    }
   }
  },
  {
   "cell_type":"code",
   "source":[
    "X_train_H, X_test_H, Y_train_H, Y_test_H = train_test_split(X, Y,test_size=0.5,train_size=0.5)"
   ],
   "execution_count":null,
   "outputs":[
    
   ],
   "metadata":{
    "datalore":{
     "type":"CODE",
     "hide_input_from_viewers":false,
     "hide_output_from_viewers":false
    }
   }
  },
  {
   "cell_type":"markdown",
   "source":[
    "### Funkcja liniowa"
   ],
   "attachments":{
    
   },
   "metadata":{
    "datalore":{
     "type":"MD",
     "hide_input_from_viewers":false,
     "hide_output_from_viewers":false
    }
   }
  },
  {
   "cell_type":"code",
   "source":[
    "model_lin_H = LinearRegression()\n",
    "model_lin_H.fit(X_train_H.reshape(-1,1), Y_train_H)\n",
    "\n",
    "a=np.round(model_lin.coef_,5)[0]\n",
    "b=np.round(model_lin.intercept_,5)\n",
    "\n",
    "print(f'Parametry modelu liniowego: a={a}, b={b}')\n",
    "MSE_LIN_TEST_H = np.round(mean_squared_error(Y_test_H, model_lin_H.predict(X_test_H.reshape(-1,1))),4)\n",
    "\n",
    "print(f'Błąd średniokwadratowy modelu liniowego: {MSE_LIN_TEST_H}')"
   ],
   "execution_count":null,
   "outputs":[
    {
     "name":"stdout",
     "text":[
      "Parametry modelu liniowego: a=51.51044, b=-6.14387\n",
      "Błąd średniokwadratowy modelu liniowego: 0.1505\n"
     ],
     "output_type":"stream"
    }
   ],
   "metadata":{
    "datalore":{
     "type":"CODE",
     "hide_input_from_viewers":false,
     "hide_output_from_viewers":false
    }
   }
  },
  {
   "cell_type":"markdown",
   "source":[
    "### Funkcja kwadratowa"
   ],
   "attachments":{
    
   },
   "metadata":{
    "datalore":{
     "type":"MD",
     "hide_input_from_viewers":false,
     "hide_output_from_viewers":false
    }
   }
  },
  {
   "cell_type":"code",
   "source":[
    "model_GLM_H = LinearRegression()\n",
    "\n",
    "gen_features_H = PolynomialFeatures(degree=2, include_bias=True, interaction_only=False)\n",
    "\n",
    "model_GLM_H.fit(gen_features.fit_transform(X_train.reshape(-1, 1)), Y_train)\n",
    "a = np.round(model_GLM.coef_[2], 4)\n",
    "b = np.round(model_GLM.coef_[1], 4)\n",
    "c = np.round(model_GLM.intercept_, 4)\n",
    "\n",
    "print(f'Parametry modelu GLM: a={a},b={b},c={c}')\n",
    "MSE_GLM_TEST_H = np.round(mean_squared_error(Y_test_H, model_GLM_H.predict(gen_features_H.fit_transform(X_test_H.reshape(-1, 1)))), 4)\n",
    "print(f'Błąd średniokwadratowy modelu GLM: {MSE_GLM_TEST_H}')"
   ],
   "execution_count":null,
   "outputs":[
    {
     "name":"stdout",
     "text":[
      "Parametry modelu GLM: a=517.5953,b=-159.3614,c=15.2326\n",
      "Błąd średniokwadratowy modelu GLM: 0.138\n"
     ],
     "output_type":"stream"
    }
   ],
   "metadata":{
    "datalore":{
     "type":"CODE",
     "hide_input_from_viewers":false,
     "hide_output_from_viewers":false
    }
   }
  },
  {
   "cell_type":"markdown",
   "source":[
    "### Predykcje modeli"
   ],
   "attachments":{
    
   },
   "metadata":{
    "datalore":{
     "type":"MD",
     "hide_input_from_viewers":false,
     "hide_output_from_viewers":false
    }
   }
  },
  {
   "cell_type":"code",
   "source":[
    "os_x = np.linspace(start=X.min(), stop=X.max(), num=300)\n",
    "\n",
    "y_lin_pred_H = model_lin_H.predict(os_x.reshape(-1,1))\n",
    "y_GLM_pred_H = model_GLM_H.predict(gen_features.fit_transform(os_x.reshape(-1,1)))"
   ],
   "execution_count":null,
   "outputs":[
    
   ],
   "metadata":{
    "datalore":{
     "type":"CODE",
     "hide_input_from_viewers":false,
     "hide_output_from_viewers":false
    }
   }
  },
  {
   "cell_type":"code",
   "source":[
    "plt.figure(figsize=(20,14))\n",
    "plt.scatter(X_train_H, Y_train_H, label='dane treningowe')\n",
    "plt.scatter(X_test_H, Y_test_H, edgecolor='black', facecolor='none', label='dane testujące')\n",
    "\n",
    "plt.plot(os_x, y_lin_pred_H, label='model liniowy 50\/50', color='tab:orange')\n",
    "plt.plot(os_x, y_GLM_pred_H, label='model GLM 50\/50', color='tab:red')\n",
    "\n",
    "plt.legend(fontsize=20, shadow=True, loc='upper left')\n",
    "\n",
    "plt.xlabel(xlabel='flipper length [m]',fontsize=20)\n",
    "plt.ylabel(ylabel='body mass [kg]',fontsize=20)\n",
    "\n",
    "plt.grid()\n",
    "plt.show()"
   ],
   "execution_count":null,
   "outputs":[
    
   ],
   "metadata":{
    "datalore":{
     "type":"CODE",
     "hide_input_from_viewers":false,
     "hide_output_from_viewers":false
    }
   }
  },
  {
   "cell_type":"code",
   "source":[
    "print(f\"Blad sredniokwadratowy funkcji liniowej z danymi testowymi i treningowymi: {MSE_LIN_TEST_H}\")\n",
    "print(f\"Blad sredniokwadratowy funkcji kwadratowej z danymi testowymi i treningowymi: {MSE_GLM_TEST_H}\")"
   ],
   "execution_count":null,
   "outputs":[
    {
     "name":"stdout",
     "text":[
      "Blad sredniokwadratowy funkcji liniowej z danymi testowymi i treningowymi: 0.1505\n",
      "Blad sredniokwadratowy funkcji kwadratowej z danymi testowymi i treningowymi: 0.138\n"
     ],
     "output_type":"stream"
    }
   ],
   "metadata":{
    "datalore":{
     "type":"CODE",
     "hide_input_from_viewers":false,
     "hide_output_from_viewers":false
    }
   }
  },
  {
   "cell_type":"markdown",
   "source":[
    "# Zobrazowanie wszystkich modeli na jednym wykresie"
   ],
   "attachments":{
    
   },
   "metadata":{
    "datalore":{
     "type":"MD",
     "hide_input_from_viewers":false,
     "hide_output_from_viewers":false
    }
   }
  },
  {
   "cell_type":"markdown",
   "source":[
    "### Funkcje liniowe"
   ],
   "attachments":{
    
   },
   "metadata":{
    "datalore":{
     "type":"MD",
     "hide_input_from_viewers":false,
     "hide_output_from_viewers":false
    }
   }
  },
  {
   "cell_type":"code",
   "source":[
    "os_x = np.linspace(start=X.min(), stop=X.max(), num=300)\n",
    "plt.figure(figsize=(25,15))\n",
    "\n",
    "# 50\/50\n",
    "plt.scatter(X_train_H, Y_train_H,edgecolor='white', label='dane treningowe 50\/50')\n",
    "plt.scatter(X_test_H, Y_test_H, edgecolor='black', facecolor='none', label='dane testujące 50\/50')\n",
    "plt.plot(os_x, y_lin_pred_H, label='model liniowy 50\/50', color='tab:blue')\n",
    "# 80\/20\n",
    "plt.scatter(X_train, Y_train, edgecolor='purple',label='dane treningowe 80\/20')\n",
    "plt.scatter(X_test, Y_test, edgecolor='blue', facecolor='none', label='dane testujące 80\/20')\n",
    "plt.plot(os_x, y_lin_pred, label='model liniowy 80\/20', color='tab:red')\n",
    "\n",
    "\n",
    "\n",
    "plt.legend(fontsize=20, shadow=True, loc='upper left')\n",
    "\n",
    "plt.xticks([x for x in np.arange(X.min(),X.max(),0.005)],fontsize=22)\n",
    "plt.yticks([y for y in np.arange(Y.min(),Y.max(),0.25)],fontsize=22)\n",
    "\n",
    "plt.xlabel(xlabel='flipper length [m]',fontsize=30)\n",
    "plt.ylabel(ylabel='body mass [kg]',fontsize=30)\n",
    "\n",
    "plt.grid()\n",
    "plt.show()"
   ],
   "execution_count":null,
   "outputs":[
    
   ],
   "metadata":{
    "datalore":{
     "type":"CODE",
     "hide_input_from_viewers":false,
     "hide_output_from_viewers":false
    }
   }
  },
  {
   "cell_type":"markdown",
   "source":[
    "### Funkcje kwadratowe"
   ],
   "attachments":{
    
   },
   "metadata":{
    "datalore":{
     "type":"MD",
     "hide_input_from_viewers":false,
     "hide_output_from_viewers":false
    }
   }
  },
  {
   "cell_type":"code",
   "source":[
    "os_x = np.linspace(start=X.min(), stop=X.max(), num=300)\n",
    "plt.figure(figsize=(25,15))\n",
    "\n",
    "# 50\/50\n",
    "plt.plot(os_x, y_GLM_pred_H, label='model GLM 50\/50', color='tab:blue')\n",
    "plt.scatter(X_train_H, Y_train_H,edgecolor='white', label='dane treningowe 50\/50')\n",
    "plt.scatter(X_test_H, Y_test_H, edgecolor='black', facecolor='none', label='dane testujące 50\/50')\n",
    "# 80\/20\n",
    "plt.plot(os_x, y_GLM_pred, label='model GLM 80\/20', color='tab:red')\n",
    "plt.scatter(X_train, Y_train, edgecolor='purple',label='dane treningowe 80\/20')\n",
    "plt.scatter(X_test, Y_test, edgecolor='blue', facecolor='none', label='dane testujące 80\/20')\n",
    "\n",
    "plt.legend(fontsize=20, shadow=True, loc='upper left')\n",
    "\n",
    "plt.xticks([x for x in np.arange(X.min(),X.max(),0.005)],fontsize=22)\n",
    "plt.yticks([y for y in np.arange(Y.min(),Y.max(),0.25)],fontsize=22)\n",
    "\n",
    "plt.xlabel(xlabel='flipper length [m]',fontsize=30)\n",
    "plt.ylabel(ylabel='body mass [kg]',fontsize=30)\n",
    "\n",
    "plt.grid()\n",
    "plt.show()"
   ],
   "execution_count":null,
   "outputs":[
    
   ],
   "metadata":{
    "datalore":{
     "type":"CODE",
     "hide_input_from_viewers":false,
     "hide_output_from_viewers":false
    }
   }
  },
  {
   "cell_type":"markdown",
   "source":[
    "### porownania bledow sredniokwadratowych"
   ],
   "attachments":{
    
   },
   "metadata":{
    "datalore":{
     "type":"MD",
     "hide_input_from_viewers":false,
     "hide_output_from_viewers":false
    }
   }
  },
  {
   "cell_type":"code",
   "source":[
    "print(f\"\"\"\n",
    "blad sredniokwadratowy funkcji liniowej bez podzialu = {MSE_LIN_WITHOUT_TEST}\n",
    "            =====================\n",
    "blad sredniokwadratowy funkcji liniowej z podzialem 80\/20 = {MSE_LIN_TEST}\n",
    "blad sredniokwadratowy funkcji kwadratowej z podzialem 80\/20 = {MSE_GLM_TEST}    \n",
    "            =====================                                                  \n",
    "blad sredniokwadratowy funkcji liniowej z podzialem 50\/50 = {MSE_LIN_TEST_H}\n",
    "blad sredniokwadratowy funkcji kwadratowej z podzialem 50\/50 = {MSE_GLM_TEST_H}\n",
    "\"\"\")"
   ],
   "execution_count":null,
   "outputs":[
    {
     "name":"stdout",
     "text":[
      "\n",
      "blad sredniokwadratowy funkcji liniowej bez podzialu = 0.1538\n",
      "            =====================\n",
      "blad sredniokwadratowy funkcji liniowej z podzialem 80\/20 = 0.1268\n",
      "blad sredniokwadratowy funkcji kwadratowej z podzialem 80\/20 = 0.1101    \n",
      "            =====================                                                  \n",
      "blad sredniokwadratowy funkcji liniowej z podzialem 50\/50 = 0.1505\n",
      "blad sredniokwadratowy funkcji kwadratowej z podzialem 50\/50 = 0.138\n",
      "\n"
     ],
     "output_type":"stream"
    }
   ],
   "metadata":{
    "datalore":{
     "type":"CODE",
     "hide_input_from_viewers":false,
     "hide_output_from_viewers":false
    }
   }
  },
  {
   "cell_type":"markdown",
   "source":[
    "# Rozklad wagi pingwinow"
   ],
   "attachments":{
    
   },
   "metadata":{
    "datalore":{
     "type":"MD",
     "hide_input_from_viewers":false,
     "hide_output_from_viewers":false
    }
   }
  },
  {
   "cell_type":"code",
   "source":[
    "all_of_data['body_mass_kg'] = all_of_data['body_mass_g'].agg(lambda x: x\/1000)\n",
    "all_of_data"
   ],
   "execution_count":null,
   "outputs":[
    
   ],
   "metadata":{
    "datalore":{
     "type":"CODE",
     "hide_input_from_viewers":false,
     "hide_output_from_viewers":false
    }
   }
  },
  {
   "cell_type":"markdown",
   "source":[
    "### Zdefiniowanie zbiorów X"
   ],
   "attachments":{
    
   },
   "metadata":{
    "datalore":{
     "type":"MD",
     "hide_input_from_viewers":false,
     "hide_output_from_viewers":false
    }
   }
  },
  {
   "cell_type":"code",
   "source":[
    "feature = 'body_mass_kg'\n",
    "X = all_of_data[feature].values\n",
    "X_male = X[all_of_data['sex']=='Male']\n",
    "X_Female = X[all_of_data['sex']=='Female']"
   ],
   "execution_count":null,
   "outputs":[
    
   ],
   "metadata":{
    "datalore":{
     "type":"CODE",
     "hide_input_from_viewers":false,
     "hide_output_from_viewers":false
    }
   }
  },
  {
   "cell_type":"markdown",
   "source":[
    "### Wstęp do testów\n",
    "testy na normalność są nam potrzebne aby określić czy wyniki mają rozkład normalny. Hipotezy dla testów:\n",
    "- H0: Nie mamy podstaw aby odrzucić, że nasz rozkład jest normalny.\n",
    "- H1: Mamy podstawy by twierdzić, że nasz rozkład odbiega od krzywej Gaussa.\n",
    "  \n",
    "Poziom istotnosci statystycznej dla naszego przykładu możemy okreslic jako alfa=0,05\n",
    "Wyniki naszych testów możemy zbadać pod kątem tej hipotezy."
   ],
   "attachments":{
    
   },
   "metadata":{
    "datalore":{
     "type":"MD",
     "hide_input_from_viewers":false,
     "hide_output_from_viewers":false
    }
   }
  },
  {
   "cell_type":"markdown",
   "source":[
    "### 1. Wykonać test Shapiro na \"normalność\" rozkładu. Wyznaczyć i zinterpretować p-wartość."
   ],
   "attachments":{
    
   },
   "metadata":{
    "datalore":{
     "type":"MD",
     "hide_input_from_viewers":false,
     "hide_output_from_viewers":false
    }
   }
  },
  {
   "cell_type":"code",
   "source":[
    "from scipy import stats\n",
    "\n",
    "print(f'Cały zbiór           | test Shapiro, p-wartość = {stats.shapiro(X)[1]}')\n",
    "print(f'Podzbiór kobiety     | test Shapiro, p-wartość = {stats.shapiro(X_Female)[1]}')\n",
    "print(f'Podzbiór mezczyzni   | test Shapiro, p-wartość = {stats.shapiro(X_male)[1]}')"
   ],
   "execution_count":null,
   "outputs":[
    
   ],
   "metadata":{
    "datalore":{
     "type":"CODE",
     "hide_input_from_viewers":false,
     "hide_output_from_viewers":false
    }
   }
  },
  {
   "cell_type":"markdown",
   "source":[
    "Jak widzimy, nasza p-wartość jest duuuuużo mniejsza niż nasza alfa co oznacza, że musimy odrzucić hipotezę H0 i przyjąć H1.\n",
    "Mamy solidne podstawy aby twierdzić, że nasz rozkład nie jest rozkładem normalnym"
   ],
   "attachments":{
    
   },
   "metadata":{
    "datalore":{
     "type":"MD",
     "hide_input_from_viewers":false,
     "hide_output_from_viewers":false
    }
   }
  },
  {
   "cell_type":"markdown",
   "source":[
    "### 2. Wykonać test d'Agostino na \"normalność\" rozkładu. Wyznaczyć i zinterpretować p-wartość."
   ],
   "attachments":{
    
   },
   "metadata":{
    "datalore":{
     "type":"MD",
     "hide_input_from_viewers":false,
     "hide_output_from_viewers":false
    }
   }
  },
  {
   "cell_type":"code",
   "source":[
    "print(f'Cały zbiór              | test D’Agostino i Pearsona, p-wartość = {stats.normaltest(X)[1]}\\n')\n",
    "print(f'Podzbior mezczyzni      | test D’Agostino i Pearsona, p-wartość = {stats.normaltest(X_male)[1]}\\n')\n",
    "print(f'Cały kobiety            | test D’Agostino i Pearsona, p-wartość = {stats.normaltest(X)[1]}\\n')"
   ],
   "execution_count":null,
   "outputs":[
    
   ],
   "metadata":{
    "datalore":{
     "type":"CODE",
     "hide_input_from_viewers":false,
     "hide_output_from_viewers":false
    }
   }
  },
  {
   "cell_type":"code",
   "source":[
    "import matplotlib.pyplot as plt"
   ],
   "execution_count":null,
   "outputs":[
    
   ],
   "metadata":{
    "datalore":{
     "type":"CODE",
     "hide_input_from_viewers":false,
     "hide_output_from_viewers":false
    }
   }
  },
  {
   "cell_type":"code",
   "source":[
    "ax_x = np.linspace(X.min(), X.max(), num=300)\n",
    "\n",
    "with plt.style.context('seaborn'):  \n",
    "    plt.figure(figsize=(20,14))\n",
    "    plt.plot(X, np.zeros_like(X), 'o', \n",
    "             markersize=10, alpha=0.5, markerfacecolor='tab:green', markeredgecolor='tab:green', \n",
    "             label='wszyscy')\n",
    "\n",
    "    plt.plot(X_male, np.ones_like(X_male), 'P', \n",
    "             markersize=10, alpha=0.5, markerfacecolor='tab:blue', markeredgecolor='tab:blue', \n",
    "             label='Pan Pingwin')\n",
    "\n",
    "    plt.plot(X_Female, 2*np.ones_like(X_Female), 'v', \n",
    "             markersize=10, alpha=0.5, markerfacecolor='tab:orange', markeredgecolor='tab:orange', \n",
    "             label='Pani Pingwin')\n",
    "\n",
    "    plt.xlabel(feature, fontsize=16)\n",
    "    plt.yticks([])\n",
    "plt.legend(shadow=True, fontsize=12)\n",
    "plt.show()"
   ],
   "execution_count":null,
   "outputs":[
    
   ],
   "metadata":{
    "datalore":{
     "type":"CODE",
     "hide_input_from_viewers":false,
     "hide_output_from_viewers":false
    }
   }
  },
  {
   "cell_type":"markdown",
   "source":[
    "Jak widać na wykresach nasze odrzucenie hipotezy zerowej okazało się słuszne, ponieważ rozkład \n",
    "nie przypomina rozkładu normalnego przez już widoczne dwie grupu dla Pan Pingwinow od 3 do 4 i Panow Pingwinow od 3 do prawie 5 a drufa ponad 5 do ponad 6"
   ],
   "attachments":{
    
   },
   "metadata":{
    "datalore":{
     "type":"MD",
     "hide_input_from_viewers":false,
     "hide_output_from_viewers":false
    }
   }
  },
  {
   "cell_type":"markdown",
   "source":[
    "### Estymator Parzena"
   ],
   "attachments":{
    
   },
   "metadata":{
    "datalore":{
     "type":"MD",
     "hide_input_from_viewers":false,
     "hide_output_from_viewers":false
    }
   }
  },
  {
   "cell_type":"markdown",
   "source":[
    "Funkcja jądra"
   ],
   "attachments":{
    
   },
   "metadata":{
    "datalore":{
     "type":"MD",
     "hide_input_from_viewers":false,
     "hide_output_from_viewers":false
    }
   }
  },
  {
   "cell_type":"code",
   "source":[
    "def K(x):\n",
    "  return np.exp(-x**2\/2)\/np.sqrt(2*np.pi)"
   ],
   "execution_count":null,
   "outputs":[
    
   ],
   "metadata":{
    "datalore":{
     "type":"CODE",
     "hide_input_from_viewers":false,
     "hide_output_from_viewers":false
    }
   }
  },
  {
   "cell_type":"code",
   "source":[
    "H = [0.3, 0.1, 0.05]\n",
    "N = X.size\n",
    "\n",
    "plt.figure(figsize=(20,14))\n",
    "for h in H:\n",
    "  suma = 0\n",
    "  for nr, pomiar in enumerate(X):\n",
    "    suma += K((ax_x-pomiar)\/h)\n",
    "\n",
    "  os_y = suma\/(h*N)\n",
    "  plt.plot(ax_x, os_y, label=f'h = {h}')\n",
    "  \n",
    "\n",
    "plt.plot(X, np.zeros_like(X) , 's', markersize=5, color='black', label='pingwin')\n",
    "\n",
    "plt.ylabel('$f$', fontsize=14, rotation='horizontal', labelpad=15)\n",
    "plt.legend(fontsize=12, shadow=True)\n",
    "plt.legend(fontsize=12, shadow=True)\n",
    "plt.xticks(fontsize=20)\n",
    "plt.xlabel(\"body_mass_kg\", fontsize=20)\n",
    "plt.yticks(fontsize=20)\n",
    "plt.show()"
   ],
   "execution_count":null,
   "outputs":[
    
   ],
   "metadata":{
    "datalore":{
     "type":"CODE",
     "hide_input_from_viewers":false,
     "hide_output_from_viewers":false
    }
   }
  },
  {
   "cell_type":"markdown",
   "source":[
    "### h nalezy do [0.3, 0.1, 0.05] dla meskiego gatunku"
   ],
   "attachments":{
    
   },
   "metadata":{
    "datalore":{
     "type":"MD",
     "hide_input_from_viewers":false,
     "hide_output_from_viewers":false
    }
   }
  },
  {
   "cell_type":"code",
   "source":[
    "H = [0.3, 0.1, 0.05]\n",
    "N = X_male.size\n",
    "\n",
    "plt.figure(figsize=(20,14))\n",
    "for h in H:\n",
    "  suma = 0\n",
    "  for nr, pomiar in enumerate(X_male):\n",
    "    suma += K((ax_x-pomiar)\/h)\n",
    "    \n",
    "  os_y = suma\/(h*N)\n",
    "  plt.plot(ax_x, os_y, label=f'h = {h}')\n",
    "  \n",
    "\n",
    "plt.plot(X_male, np.zeros_like(X_male) , 's', markersize=5, color='black', label='pingwin')\n",
    "\n",
    "plt.ylabel('$f$', fontsize=14, rotation='horizontal', labelpad=15)\n",
    "plt.legend(fontsize=12, shadow=True)\n",
    "plt.xticks(fontsize=20)\n",
    "plt.xlabel(\"body_mass_kg\", fontsize=20)\n",
    "plt.yticks(fontsize=20)\n",
    "\n",
    "plt.show()"
   ],
   "execution_count":null,
   "outputs":[
    
   ],
   "metadata":{
    "datalore":{
     "type":"CODE",
     "hide_input_from_viewers":false,
     "hide_output_from_viewers":false
    }
   }
  },
  {
   "cell_type":"markdown",
   "source":[
    "### h nalezy do [0.3, 0.1, 0.05] dla zenskiego gatunku"
   ],
   "attachments":{
    
   },
   "metadata":{
    "datalore":{
     "type":"MD",
     "hide_input_from_viewers":false,
     "hide_output_from_viewers":false
    }
   }
  },
  {
   "cell_type":"code",
   "source":[
    "H = [0.3, 0.1, 0.05]\n",
    "N = X_Female.size\n",
    "\n",
    "plt.figure(figsize=(20,14))\n",
    "for h in H:\n",
    "  suma = 0\n",
    "  for nr, pomiar in enumerate(X_Female):\n",
    "    suma += K((ax_x-pomiar)\/h)\n",
    "\n",
    "  os_y = suma\/(h*N)\n",
    "  plt.plot(ax_x, os_y, label=f'h = {h}')\n",
    "  \n",
    "\n",
    "plt.plot(X_Female, np.zeros_like(X_Female) , 's', markersize=5, color='black', label='pingwin')\n",
    "\n",
    "plt.ylabel('$f$', fontsize=14, rotation='horizontal', labelpad=15)\n",
    "plt.legend(fontsize=12, shadow=True)\n",
    "plt.legend(fontsize=12, shadow=True)\n",
    "plt.xticks(fontsize=20)\n",
    "plt.xlabel(\"body_mass_kg\", fontsize=20)\n",
    "plt.yticks(fontsize=20)\n",
    "plt.show()"
   ],
   "execution_count":null,
   "outputs":[
    
   ],
   "metadata":{
    "datalore":{
     "type":"CODE",
     "hide_input_from_viewers":false,
     "hide_output_from_viewers":false
    }
   }
  },
  {
   "cell_type":"markdown",
   "source":[
    "### ogolne spojrzenie na zaleznosci miedzy cechami"
   ],
   "attachments":{
    
   },
   "metadata":{
    "datalore":{
     "type":"MD",
     "hide_input_from_viewers":false,
     "hide_output_from_viewers":false
    }
   }
  },
  {
   "cell_type":"code",
   "source":[
    "import seaborn as sns\n",
    "sns.pairplot(all_of_data, hue='sex', height=2.5);"
   ],
   "execution_count":null,
   "outputs":[
    
   ],
   "metadata":{
    "datalore":{
     "type":"CODE",
     "hide_input_from_viewers":false,
     "hide_output_from_viewers":false
    }
   }
  },
  {
   "cell_type":"code",
   "source":[
    
   ],
   "execution_count":null,
   "outputs":[
    
   ],
   "metadata":{
    "datalore":{
     "type":"CODE",
     "hide_input_from_viewers":false,
     "hide_output_from_viewers":false
    }
   }
  }
 ],
 "metadata":{
  "datalore":{
   "version":1,
   "computation_mode":"JUPYTER",
   "package_manager":"pip",
   "base_environment":"default",
   "packages":[
    {
     "name":"kaggle",
     "version":"1.5.12",
     "source":"PIP"
    },
    {
     "name":"jupyterlab",
     "version":"4.0.0a9",
     "source":"PIP"
    }
   ]
  }
 },
 "nbformat":4,
 "nbformat_minor":4
}