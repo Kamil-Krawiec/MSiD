{
 "cells":[
  {
   "cell_type":"code",
   "source":[
    "import pandas as pd\n",
    "import numpy as np\n",
    "import urllib.request\n",
    "import os"
   ],
   "execution_count":1,
   "outputs":[
    
   ],
   "metadata":{
    "datalore":{
     "type":"CODE",
     "hide_input_from_viewers":false,
     "hide_output_from_viewers":false
    }
   }
  },
  {
   "cell_type":"markdown",
   "source":[
    "## All data to one file"
   ],
   "attachments":{
    
   },
   "metadata":{
    "datalore":{
     "type":"MD",
     "hide_input_from_viewers":false,
     "hide_output_from_viewers":false
    }
   }
  },
  {
   "cell_type":"code",
   "source":[
    "\n",
    "plik = 'all_data.csv'\n",
    "URL = 'https:\/\/raw.githubusercontent.com\/KeithGalli\/Pandas-Data-Science-Tasks\/master\/SalesAnalysis\/Output\/' + plik\n",
    "if not os.path.isfile(plik):            \n",
    "    print('Pobieram plik ', URL)\n",
    "    urllib.request.urlretrieve(URL, filename=plik)   \n",
    "    print('Pobrano.')\n",
    "else:\n",
    "    print('Plik już jest na dysku.')"
   ],
   "execution_count":2,
   "outputs":[
    {
     "name":"stdout",
     "text":[
      "Pobieram plik  https:\/\/raw.githubusercontent.com\/KeithGalli\/Pandas-Data-Science-Tasks\/master\/SalesAnalysis\/Output\/all_data.csv\n",
      "Pobrano.\n"
     ],
     "output_type":"stream"
    }
   ],
   "metadata":{
    "datalore":{
     "type":"CODE",
     "hide_input_from_viewers":false,
     "hide_output_from_viewers":false
    }
   }
  },
  {
   "cell_type":"code",
   "source":[
    "\n",
    "all_of_data = pd.read_csv(\"all_data.csv\")\n",
    "\n",
    "all_of_data.head()"
   ],
   "execution_count":3,
   "outputs":[
    {
     "data":{
      "text\/html":[
       "<div>\n",
       "<style scoped>\n",
       "    .dataframe tbody tr th:only-of-type {\n",
       "        vertical-align: middle;\n",
       "    }\n",
       "\n",
       "    .dataframe tbody tr th {\n",
       "        vertical-align: top;\n",
       "    }\n",
       "\n",
       "    .dataframe thead th {\n",
       "        text-align: right;\n",
       "    }\n",
       "<\/style>\n",
       "<table border=\"1\" class=\"dataframe\">\n",
       "  <thead>\n",
       "    <tr style=\"text-align: right;\">\n",
       "      <th><\/th>\n",
       "      <th>Order ID<\/th>\n",
       "      <th>Product<\/th>\n",
       "      <th>Quantity Ordered<\/th>\n",
       "      <th>Price Each<\/th>\n",
       "      <th>Order Date<\/th>\n",
       "      <th>Purchase Address<\/th>\n",
       "    <\/tr>\n",
       "  <\/thead>\n",
       "  <tbody>\n",
       "    <tr>\n",
       "      <th>0<\/th>\n",
       "      <td>176558<\/td>\n",
       "      <td>USB-C Charging Cable<\/td>\n",
       "      <td>2<\/td>\n",
       "      <td>11.95<\/td>\n",
       "      <td>04\/19\/19 08:46<\/td>\n",
       "      <td>917 1st St, Dallas, TX 75001<\/td>\n",
       "    <\/tr>\n",
       "    <tr>\n",
       "      <th>1<\/th>\n",
       "      <td>NaN<\/td>\n",
       "      <td>NaN<\/td>\n",
       "      <td>NaN<\/td>\n",
       "      <td>NaN<\/td>\n",
       "      <td>NaN<\/td>\n",
       "      <td>NaN<\/td>\n",
       "    <\/tr>\n",
       "    <tr>\n",
       "      <th>2<\/th>\n",
       "      <td>176559<\/td>\n",
       "      <td>Bose SoundSport Headphones<\/td>\n",
       "      <td>1<\/td>\n",
       "      <td>99.99<\/td>\n",
       "      <td>04\/07\/19 22:30<\/td>\n",
       "      <td>682 Chestnut St, Boston, MA 02215<\/td>\n",
       "    <\/tr>\n",
       "    <tr>\n",
       "      <th>3<\/th>\n",
       "      <td>176560<\/td>\n",
       "      <td>Google Phone<\/td>\n",
       "      <td>1<\/td>\n",
       "      <td>600<\/td>\n",
       "      <td>04\/12\/19 14:38<\/td>\n",
       "      <td>669 Spruce St, Los Angeles, CA 90001<\/td>\n",
       "    <\/tr>\n",
       "    <tr>\n",
       "      <th>4<\/th>\n",
       "      <td>176560<\/td>\n",
       "      <td>Wired Headphones<\/td>\n",
       "      <td>1<\/td>\n",
       "      <td>11.99<\/td>\n",
       "      <td>04\/12\/19 14:38<\/td>\n",
       "      <td>669 Spruce St, Los Angeles, CA 90001<\/td>\n",
       "    <\/tr>\n",
       "  <\/tbody>\n",
       "<\/table>\n",
       "<\/div>"
      ]
     },
     "metadata":{
      
     },
     "output_type":"display_data"
    }
   ],
   "metadata":{
    "datalore":{
     "type":"CODE",
     "hide_input_from_viewers":false,
     "hide_output_from_viewers":false
    }
   }
  },
  {
   "cell_type":"markdown",
   "source":[
    "## Cleaning up the data"
   ],
   "attachments":{
    
   },
   "metadata":{
    "datalore":{
     "type":"MD",
     "hide_input_from_viewers":false,
     "hide_output_from_viewers":false
    }
   }
  },
  {
   "cell_type":"markdown",
   "source":[
    "### Drop rows of NAN "
   ],
   "attachments":{
    
   },
   "metadata":{
    "datalore":{
     "type":"MD",
     "hide_input_from_viewers":false,
     "hide_output_from_viewers":false
    }
   }
  },
  {
   "cell_type":"code",
   "source":[
    "nan_df = all_of_data[all_of_data.isna().any(axis=1)]##finding nan tables\n",
    "\n",
    "all_of_data = all_of_data.dropna(how=\"all\")###dropping nan records\n",
    "all_of_data.head()"
   ],
   "execution_count":4,
   "outputs":[
    {
     "data":{
      "text\/html":[
       "<div>\n",
       "<style scoped>\n",
       "    .dataframe tbody tr th:only-of-type {\n",
       "        vertical-align: middle;\n",
       "    }\n",
       "\n",
       "    .dataframe tbody tr th {\n",
       "        vertical-align: top;\n",
       "    }\n",
       "\n",
       "    .dataframe thead th {\n",
       "        text-align: right;\n",
       "    }\n",
       "<\/style>\n",
       "<table border=\"1\" class=\"dataframe\">\n",
       "  <thead>\n",
       "    <tr style=\"text-align: right;\">\n",
       "      <th><\/th>\n",
       "      <th>Order ID<\/th>\n",
       "      <th>Product<\/th>\n",
       "      <th>Quantity Ordered<\/th>\n",
       "      <th>Price Each<\/th>\n",
       "      <th>Order Date<\/th>\n",
       "      <th>Purchase Address<\/th>\n",
       "    <\/tr>\n",
       "  <\/thead>\n",
       "  <tbody>\n",
       "    <tr>\n",
       "      <th>0<\/th>\n",
       "      <td>176558<\/td>\n",
       "      <td>USB-C Charging Cable<\/td>\n",
       "      <td>2<\/td>\n",
       "      <td>11.95<\/td>\n",
       "      <td>04\/19\/19 08:46<\/td>\n",
       "      <td>917 1st St, Dallas, TX 75001<\/td>\n",
       "    <\/tr>\n",
       "    <tr>\n",
       "      <th>2<\/th>\n",
       "      <td>176559<\/td>\n",
       "      <td>Bose SoundSport Headphones<\/td>\n",
       "      <td>1<\/td>\n",
       "      <td>99.99<\/td>\n",
       "      <td>04\/07\/19 22:30<\/td>\n",
       "      <td>682 Chestnut St, Boston, MA 02215<\/td>\n",
       "    <\/tr>\n",
       "    <tr>\n",
       "      <th>3<\/th>\n",
       "      <td>176560<\/td>\n",
       "      <td>Google Phone<\/td>\n",
       "      <td>1<\/td>\n",
       "      <td>600<\/td>\n",
       "      <td>04\/12\/19 14:38<\/td>\n",
       "      <td>669 Spruce St, Los Angeles, CA 90001<\/td>\n",
       "    <\/tr>\n",
       "    <tr>\n",
       "      <th>4<\/th>\n",
       "      <td>176560<\/td>\n",
       "      <td>Wired Headphones<\/td>\n",
       "      <td>1<\/td>\n",
       "      <td>11.99<\/td>\n",
       "      <td>04\/12\/19 14:38<\/td>\n",
       "      <td>669 Spruce St, Los Angeles, CA 90001<\/td>\n",
       "    <\/tr>\n",
       "    <tr>\n",
       "      <th>5<\/th>\n",
       "      <td>176561<\/td>\n",
       "      <td>Wired Headphones<\/td>\n",
       "      <td>1<\/td>\n",
       "      <td>11.99<\/td>\n",
       "      <td>04\/30\/19 09:27<\/td>\n",
       "      <td>333 8th St, Los Angeles, CA 90001<\/td>\n",
       "    <\/tr>\n",
       "  <\/tbody>\n",
       "<\/table>\n",
       "<\/div>"
      ]
     },
     "metadata":{
      
     },
     "output_type":"display_data"
    }
   ],
   "metadata":{
    "datalore":{
     "type":"CODE",
     "hide_input_from_viewers":false,
     "hide_output_from_viewers":false
    }
   }
  },
  {
   "cell_type":"markdown",
   "source":[
    "### Droping 'Order Date' values in 'Order Date' section"
   ],
   "attachments":{
    
   },
   "metadata":{
    "datalore":{
     "type":"MD",
     "hide_input_from_viewers":false,
     "hide_output_from_viewers":false
    }
   }
  },
  {
   "cell_type":"code",
   "source":[
    "temp_df = all_of_data[all_of_data['Order Date'].str[0:2]=='Or']\n",
    "temp_df.head()"
   ],
   "execution_count":5,
   "outputs":[
    {
     "data":{
      "text\/html":[
       "<div>\n",
       "<style scoped>\n",
       "    .dataframe tbody tr th:only-of-type {\n",
       "        vertical-align: middle;\n",
       "    }\n",
       "\n",
       "    .dataframe tbody tr th {\n",
       "        vertical-align: top;\n",
       "    }\n",
       "\n",
       "    .dataframe thead th {\n",
       "        text-align: right;\n",
       "    }\n",
       "<\/style>\n",
       "<table border=\"1\" class=\"dataframe\">\n",
       "  <thead>\n",
       "    <tr style=\"text-align: right;\">\n",
       "      <th><\/th>\n",
       "      <th>Order ID<\/th>\n",
       "      <th>Product<\/th>\n",
       "      <th>Quantity Ordered<\/th>\n",
       "      <th>Price Each<\/th>\n",
       "      <th>Order Date<\/th>\n",
       "      <th>Purchase Address<\/th>\n",
       "    <\/tr>\n",
       "  <\/thead>\n",
       "  <tbody>\n",
       "    <tr>\n",
       "      <th>519<\/th>\n",
       "      <td>Order ID<\/td>\n",
       "      <td>Product<\/td>\n",
       "      <td>Quantity Ordered<\/td>\n",
       "      <td>Price Each<\/td>\n",
       "      <td>Order Date<\/td>\n",
       "      <td>Purchase Address<\/td>\n",
       "    <\/tr>\n",
       "    <tr>\n",
       "      <th>1149<\/th>\n",
       "      <td>Order ID<\/td>\n",
       "      <td>Product<\/td>\n",
       "      <td>Quantity Ordered<\/td>\n",
       "      <td>Price Each<\/td>\n",
       "      <td>Order Date<\/td>\n",
       "      <td>Purchase Address<\/td>\n",
       "    <\/tr>\n",
       "    <tr>\n",
       "      <th>1155<\/th>\n",
       "      <td>Order ID<\/td>\n",
       "      <td>Product<\/td>\n",
       "      <td>Quantity Ordered<\/td>\n",
       "      <td>Price Each<\/td>\n",
       "      <td>Order Date<\/td>\n",
       "      <td>Purchase Address<\/td>\n",
       "    <\/tr>\n",
       "    <tr>\n",
       "      <th>2878<\/th>\n",
       "      <td>Order ID<\/td>\n",
       "      <td>Product<\/td>\n",
       "      <td>Quantity Ordered<\/td>\n",
       "      <td>Price Each<\/td>\n",
       "      <td>Order Date<\/td>\n",
       "      <td>Purchase Address<\/td>\n",
       "    <\/tr>\n",
       "    <tr>\n",
       "      <th>2893<\/th>\n",
       "      <td>Order ID<\/td>\n",
       "      <td>Product<\/td>\n",
       "      <td>Quantity Ordered<\/td>\n",
       "      <td>Price Each<\/td>\n",
       "      <td>Order Date<\/td>\n",
       "      <td>Purchase Address<\/td>\n",
       "    <\/tr>\n",
       "  <\/tbody>\n",
       "<\/table>\n",
       "<\/div>"
      ]
     },
     "metadata":{
      
     },
     "output_type":"display_data"
    }
   ],
   "metadata":{
    "datalore":{
     "type":"CODE",
     "hide_input_from_viewers":false,
     "hide_output_from_viewers":false
    }
   }
  },
  {
   "cell_type":"markdown",
   "source":[
    "### getting rid of 'Order Date' in our data['Order Date']"
   ],
   "attachments":{
    
   },
   "metadata":{
    "datalore":{
     "type":"MD",
     "hide_input_from_viewers":false,
     "hide_output_from_viewers":false
    }
   }
  },
  {
   "cell_type":"code",
   "source":[
    "all_of_data = all_of_data[all_of_data['Order Date'].str[0:2]!='Or']\n",
    "all_of_data.head()"
   ],
   "execution_count":6,
   "outputs":[
    {
     "data":{
      "text\/html":[
       "<div>\n",
       "<style scoped>\n",
       "    .dataframe tbody tr th:only-of-type {\n",
       "        vertical-align: middle;\n",
       "    }\n",
       "\n",
       "    .dataframe tbody tr th {\n",
       "        vertical-align: top;\n",
       "    }\n",
       "\n",
       "    .dataframe thead th {\n",
       "        text-align: right;\n",
       "    }\n",
       "<\/style>\n",
       "<table border=\"1\" class=\"dataframe\">\n",
       "  <thead>\n",
       "    <tr style=\"text-align: right;\">\n",
       "      <th><\/th>\n",
       "      <th>Order ID<\/th>\n",
       "      <th>Product<\/th>\n",
       "      <th>Quantity Ordered<\/th>\n",
       "      <th>Price Each<\/th>\n",
       "      <th>Order Date<\/th>\n",
       "      <th>Purchase Address<\/th>\n",
       "    <\/tr>\n",
       "  <\/thead>\n",
       "  <tbody>\n",
       "    <tr>\n",
       "      <th>0<\/th>\n",
       "      <td>176558<\/td>\n",
       "      <td>USB-C Charging Cable<\/td>\n",
       "      <td>2<\/td>\n",
       "      <td>11.95<\/td>\n",
       "      <td>04\/19\/19 08:46<\/td>\n",
       "      <td>917 1st St, Dallas, TX 75001<\/td>\n",
       "    <\/tr>\n",
       "    <tr>\n",
       "      <th>2<\/th>\n",
       "      <td>176559<\/td>\n",
       "      <td>Bose SoundSport Headphones<\/td>\n",
       "      <td>1<\/td>\n",
       "      <td>99.99<\/td>\n",
       "      <td>04\/07\/19 22:30<\/td>\n",
       "      <td>682 Chestnut St, Boston, MA 02215<\/td>\n",
       "    <\/tr>\n",
       "    <tr>\n",
       "      <th>3<\/th>\n",
       "      <td>176560<\/td>\n",
       "      <td>Google Phone<\/td>\n",
       "      <td>1<\/td>\n",
       "      <td>600<\/td>\n",
       "      <td>04\/12\/19 14:38<\/td>\n",
       "      <td>669 Spruce St, Los Angeles, CA 90001<\/td>\n",
       "    <\/tr>\n",
       "    <tr>\n",
       "      <th>4<\/th>\n",
       "      <td>176560<\/td>\n",
       "      <td>Wired Headphones<\/td>\n",
       "      <td>1<\/td>\n",
       "      <td>11.99<\/td>\n",
       "      <td>04\/12\/19 14:38<\/td>\n",
       "      <td>669 Spruce St, Los Angeles, CA 90001<\/td>\n",
       "    <\/tr>\n",
       "    <tr>\n",
       "      <th>5<\/th>\n",
       "      <td>176561<\/td>\n",
       "      <td>Wired Headphones<\/td>\n",
       "      <td>1<\/td>\n",
       "      <td>11.99<\/td>\n",
       "      <td>04\/30\/19 09:27<\/td>\n",
       "      <td>333 8th St, Los Angeles, CA 90001<\/td>\n",
       "    <\/tr>\n",
       "  <\/tbody>\n",
       "<\/table>\n",
       "<\/div>"
      ]
     },
     "metadata":{
      
     },
     "output_type":"display_data"
    }
   ],
   "metadata":{
    "datalore":{
     "type":"CODE",
     "hide_input_from_viewers":false,
     "hide_output_from_viewers":false
    }
   }
  },
  {
   "cell_type":"markdown",
   "source":[
    "### creating 'Month' column and casting str type in Month table to int32"
   ],
   "attachments":{
    
   },
   "metadata":{
    "datalore":{
     "type":"MD",
     "hide_input_from_viewers":false,
     "hide_output_from_viewers":false
    }
   }
  },
  {
   "cell_type":"code",
   "source":[
    "all_of_data['Month'] = all_of_data['Order Date'].str[0:2]\n",
    "all_of_data['Month'] = all_of_data['Month'].astype('int32')\n",
    "all_of_data.head()"
   ],
   "execution_count":7,
   "outputs":[
    {
     "data":{
      "text\/html":[
       "<div>\n",
       "<style scoped>\n",
       "    .dataframe tbody tr th:only-of-type {\n",
       "        vertical-align: middle;\n",
       "    }\n",
       "\n",
       "    .dataframe tbody tr th {\n",
       "        vertical-align: top;\n",
       "    }\n",
       "\n",
       "    .dataframe thead th {\n",
       "        text-align: right;\n",
       "    }\n",
       "<\/style>\n",
       "<table border=\"1\" class=\"dataframe\">\n",
       "  <thead>\n",
       "    <tr style=\"text-align: right;\">\n",
       "      <th><\/th>\n",
       "      <th>Order ID<\/th>\n",
       "      <th>Product<\/th>\n",
       "      <th>Quantity Ordered<\/th>\n",
       "      <th>Price Each<\/th>\n",
       "      <th>Order Date<\/th>\n",
       "      <th>Purchase Address<\/th>\n",
       "      <th>Month<\/th>\n",
       "    <\/tr>\n",
       "  <\/thead>\n",
       "  <tbody>\n",
       "    <tr>\n",
       "      <th>0<\/th>\n",
       "      <td>176558<\/td>\n",
       "      <td>USB-C Charging Cable<\/td>\n",
       "      <td>2<\/td>\n",
       "      <td>11.95<\/td>\n",
       "      <td>04\/19\/19 08:46<\/td>\n",
       "      <td>917 1st St, Dallas, TX 75001<\/td>\n",
       "      <td>4<\/td>\n",
       "    <\/tr>\n",
       "    <tr>\n",
       "      <th>2<\/th>\n",
       "      <td>176559<\/td>\n",
       "      <td>Bose SoundSport Headphones<\/td>\n",
       "      <td>1<\/td>\n",
       "      <td>99.99<\/td>\n",
       "      <td>04\/07\/19 22:30<\/td>\n",
       "      <td>682 Chestnut St, Boston, MA 02215<\/td>\n",
       "      <td>4<\/td>\n",
       "    <\/tr>\n",
       "    <tr>\n",
       "      <th>3<\/th>\n",
       "      <td>176560<\/td>\n",
       "      <td>Google Phone<\/td>\n",
       "      <td>1<\/td>\n",
       "      <td>600<\/td>\n",
       "      <td>04\/12\/19 14:38<\/td>\n",
       "      <td>669 Spruce St, Los Angeles, CA 90001<\/td>\n",
       "      <td>4<\/td>\n",
       "    <\/tr>\n",
       "    <tr>\n",
       "      <th>4<\/th>\n",
       "      <td>176560<\/td>\n",
       "      <td>Wired Headphones<\/td>\n",
       "      <td>1<\/td>\n",
       "      <td>11.99<\/td>\n",
       "      <td>04\/12\/19 14:38<\/td>\n",
       "      <td>669 Spruce St, Los Angeles, CA 90001<\/td>\n",
       "      <td>4<\/td>\n",
       "    <\/tr>\n",
       "    <tr>\n",
       "      <th>5<\/th>\n",
       "      <td>176561<\/td>\n",
       "      <td>Wired Headphones<\/td>\n",
       "      <td>1<\/td>\n",
       "      <td>11.99<\/td>\n",
       "      <td>04\/30\/19 09:27<\/td>\n",
       "      <td>333 8th St, Los Angeles, CA 90001<\/td>\n",
       "      <td>4<\/td>\n",
       "    <\/tr>\n",
       "  <\/tbody>\n",
       "<\/table>\n",
       "<\/div>"
      ]
     },
     "metadata":{
      
     },
     "output_type":"display_data"
    }
   ],
   "metadata":{
    "datalore":{
     "type":"CODE",
     "hide_input_from_viewers":false,
     "hide_output_from_viewers":false
    }
   }
  },
  {
   "cell_type":"markdown",
   "source":[
    "### Creating 'sales' column"
   ],
   "attachments":{
    
   },
   "metadata":{
    "datalore":{
     "type":"MD",
     "hide_input_from_viewers":false,
     "hide_output_from_viewers":false
    }
   }
  },
  {
   "cell_type":"code",
   "source":[
    "\n",
    "all_of_data = all_of_data[all_of_data['Quantity Ordered'] != 'Quantity Ordered']  ###deleting wrong values from table\n",
    "\n",
    "all_of_data['Quantity Ordered']= pd.to_numeric(all_of_data['Quantity Ordered'])\n",
    "all_of_data['Price Each'] = pd.to_numeric(all_of_data['Price Each'])### different way to cast value to another type (automatic)\n",
    "all_of_data['Sales'] =  all_of_data['Price Each']* all_of_data['Quantity Ordered']\n",
    "all_of_data.head()"
   ],
   "execution_count":8,
   "outputs":[
    {
     "data":{
      "text\/html":[
       "<div>\n",
       "<style scoped>\n",
       "    .dataframe tbody tr th:only-of-type {\n",
       "        vertical-align: middle;\n",
       "    }\n",
       "\n",
       "    .dataframe tbody tr th {\n",
       "        vertical-align: top;\n",
       "    }\n",
       "\n",
       "    .dataframe thead th {\n",
       "        text-align: right;\n",
       "    }\n",
       "<\/style>\n",
       "<table border=\"1\" class=\"dataframe\">\n",
       "  <thead>\n",
       "    <tr style=\"text-align: right;\">\n",
       "      <th><\/th>\n",
       "      <th>Order ID<\/th>\n",
       "      <th>Product<\/th>\n",
       "      <th>Quantity Ordered<\/th>\n",
       "      <th>Price Each<\/th>\n",
       "      <th>Order Date<\/th>\n",
       "      <th>Purchase Address<\/th>\n",
       "      <th>Month<\/th>\n",
       "      <th>Sales<\/th>\n",
       "    <\/tr>\n",
       "  <\/thead>\n",
       "  <tbody>\n",
       "    <tr>\n",
       "      <th>0<\/th>\n",
       "      <td>176558<\/td>\n",
       "      <td>USB-C Charging Cable<\/td>\n",
       "      <td>2<\/td>\n",
       "      <td>11.95<\/td>\n",
       "      <td>04\/19\/19 08:46<\/td>\n",
       "      <td>917 1st St, Dallas, TX 75001<\/td>\n",
       "      <td>4<\/td>\n",
       "      <td>23.90<\/td>\n",
       "    <\/tr>\n",
       "    <tr>\n",
       "      <th>2<\/th>\n",
       "      <td>176559<\/td>\n",
       "      <td>Bose SoundSport Headphones<\/td>\n",
       "      <td>1<\/td>\n",
       "      <td>99.99<\/td>\n",
       "      <td>04\/07\/19 22:30<\/td>\n",
       "      <td>682 Chestnut St, Boston, MA 02215<\/td>\n",
       "      <td>4<\/td>\n",
       "      <td>99.99<\/td>\n",
       "    <\/tr>\n",
       "    <tr>\n",
       "      <th>3<\/th>\n",
       "      <td>176560<\/td>\n",
       "      <td>Google Phone<\/td>\n",
       "      <td>1<\/td>\n",
       "      <td>600.00<\/td>\n",
       "      <td>04\/12\/19 14:38<\/td>\n",
       "      <td>669 Spruce St, Los Angeles, CA 90001<\/td>\n",
       "      <td>4<\/td>\n",
       "      <td>600.00<\/td>\n",
       "    <\/tr>\n",
       "    <tr>\n",
       "      <th>4<\/th>\n",
       "      <td>176560<\/td>\n",
       "      <td>Wired Headphones<\/td>\n",
       "      <td>1<\/td>\n",
       "      <td>11.99<\/td>\n",
       "      <td>04\/12\/19 14:38<\/td>\n",
       "      <td>669 Spruce St, Los Angeles, CA 90001<\/td>\n",
       "      <td>4<\/td>\n",
       "      <td>11.99<\/td>\n",
       "    <\/tr>\n",
       "    <tr>\n",
       "      <th>5<\/th>\n",
       "      <td>176561<\/td>\n",
       "      <td>Wired Headphones<\/td>\n",
       "      <td>1<\/td>\n",
       "      <td>11.99<\/td>\n",
       "      <td>04\/30\/19 09:27<\/td>\n",
       "      <td>333 8th St, Los Angeles, CA 90001<\/td>\n",
       "      <td>4<\/td>\n",
       "      <td>11.99<\/td>\n",
       "    <\/tr>\n",
       "  <\/tbody>\n",
       "<\/table>\n",
       "<\/div>"
      ]
     },
     "metadata":{
      
     },
     "output_type":"display_data"
    }
   ],
   "metadata":{
    "datalore":{
     "type":"CODE",
     "hide_input_from_viewers":false,
     "hide_output_from_viewers":false
    }
   }
  },
  {
   "cell_type":"markdown",
   "source":[
    "## Analysing data"
   ],
   "attachments":{
    
   },
   "metadata":{
    "datalore":{
     "type":"MD",
     "hide_input_from_viewers":false,
     "hide_output_from_viewers":false
    }
   }
  },
  {
   "cell_type":"markdown",
   "source":[
    "### Task1: Best month for sales"
   ],
   "attachments":{
    
   },
   "metadata":{
    "datalore":{
     "type":"MD",
     "hide_input_from_viewers":false,
     "hide_output_from_viewers":false
    }
   }
  },
  {
   "cell_type":"code",
   "source":[
    "result = all_of_data.groupby('Month').sum()['Sales']\n",
    "result"
   ],
   "execution_count":9,
   "outputs":[
    {
     "data":{
      "text\/html":[
       
      ]
     },
     "metadata":{
      
     },
     "output_type":"display_data"
    }
   ],
   "metadata":{
    "datalore":{
     "type":"CODE",
     "hide_input_from_viewers":false,
     "hide_output_from_viewers":false
    }
   }
  },
  {
   "cell_type":"code",
   "source":[
    "import matplotlib.pyplot as plt\n",
    "months = range(1,13)\n",
    "\n",
    "plt.bar(months,result)\n",
    "plt.xticks(months)\n",
    "plt.ylabel('USD sales mln ($)')\n",
    "plt.xlabel('month')"
   ],
   "execution_count":10,
   "outputs":[
    {
     "data":{
      "text\/plain":[
       "Text(0.5, 0, 'month')"
      ],
      "image\/png":"[encoded data removed]"
     },
     "metadata":{
      "image\/png":{
       
      }
     },
     "output_type":"display_data"
    }
   ],
   "metadata":{
    "datalore":{
     "type":"CODE",
     "hide_input_from_viewers":false,
     "hide_output_from_viewers":false
    }
   }
  },
  {
   "cell_type":"markdown",
   "source":[
    "### Task2:What city had the highest number of sales?"
   ],
   "attachments":{
    
   },
   "metadata":{
    "datalore":{
     "type":"MD",
     "hide_input_from_viewers":false,
     "hide_output_from_viewers":false
    }
   }
  },
  {
   "cell_type":"code",
   "source":[
    "# .apply() method\n",
    "\n",
    "def getState(addres):\n",
    "    return addres.split(',')[2].split(' ')[1]\n",
    "\n",
    "\n",
    "all_of_data['City'] = all_of_data['Purchase Address'].apply(lambda x: x.split(\",\")[1] + '-' + getState(x))\n",
    "\n",
    "\n",
    "all_of_data.head()"
   ],
   "execution_count":11,
   "outputs":[
    {
     "data":{
      "text\/html":[
       "<div>\n",
       "<style scoped>\n",
       "    .dataframe tbody tr th:only-of-type {\n",
       "        vertical-align: middle;\n",
       "    }\n",
       "\n",
       "    .dataframe tbody tr th {\n",
       "        vertical-align: top;\n",
       "    }\n",
       "\n",
       "    .dataframe thead th {\n",
       "        text-align: right;\n",
       "    }\n",
       "<\/style>\n",
       "<table border=\"1\" class=\"dataframe\">\n",
       "  <thead>\n",
       "    <tr style=\"text-align: right;\">\n",
       "      <th><\/th>\n",
       "      <th>Order ID<\/th>\n",
       "      <th>Product<\/th>\n",
       "      <th>Quantity Ordered<\/th>\n",
       "      <th>Price Each<\/th>\n",
       "      <th>Order Date<\/th>\n",
       "      <th>Purchase Address<\/th>\n",
       "      <th>Month<\/th>\n",
       "      <th>Sales<\/th>\n",
       "      <th>City<\/th>\n",
       "    <\/tr>\n",
       "  <\/thead>\n",
       "  <tbody>\n",
       "    <tr>\n",
       "      <th>0<\/th>\n",
       "      <td>176558<\/td>\n",
       "      <td>USB-C Charging Cable<\/td>\n",
       "      <td>2<\/td>\n",
       "      <td>11.95<\/td>\n",
       "      <td>04\/19\/19 08:46<\/td>\n",
       "      <td>917 1st St, Dallas, TX 75001<\/td>\n",
       "      <td>4<\/td>\n",
       "      <td>23.90<\/td>\n",
       "      <td>Dallas-TX<\/td>\n",
       "    <\/tr>\n",
       "    <tr>\n",
       "      <th>2<\/th>\n",
       "      <td>176559<\/td>\n",
       "      <td>Bose SoundSport Headphones<\/td>\n",
       "      <td>1<\/td>\n",
       "      <td>99.99<\/td>\n",
       "      <td>04\/07\/19 22:30<\/td>\n",
       "      <td>682 Chestnut St, Boston, MA 02215<\/td>\n",
       "      <td>4<\/td>\n",
       "      <td>99.99<\/td>\n",
       "      <td>Boston-MA<\/td>\n",
       "    <\/tr>\n",
       "    <tr>\n",
       "      <th>3<\/th>\n",
       "      <td>176560<\/td>\n",
       "      <td>Google Phone<\/td>\n",
       "      <td>1<\/td>\n",
       "      <td>600.00<\/td>\n",
       "      <td>04\/12\/19 14:38<\/td>\n",
       "      <td>669 Spruce St, Los Angeles, CA 90001<\/td>\n",
       "      <td>4<\/td>\n",
       "      <td>600.00<\/td>\n",
       "      <td>Los Angeles-CA<\/td>\n",
       "    <\/tr>\n",
       "    <tr>\n",
       "      <th>4<\/th>\n",
       "      <td>176560<\/td>\n",
       "      <td>Wired Headphones<\/td>\n",
       "      <td>1<\/td>\n",
       "      <td>11.99<\/td>\n",
       "      <td>04\/12\/19 14:38<\/td>\n",
       "      <td>669 Spruce St, Los Angeles, CA 90001<\/td>\n",
       "      <td>4<\/td>\n",
       "      <td>11.99<\/td>\n",
       "      <td>Los Angeles-CA<\/td>\n",
       "    <\/tr>\n",
       "    <tr>\n",
       "      <th>5<\/th>\n",
       "      <td>176561<\/td>\n",
       "      <td>Wired Headphones<\/td>\n",
       "      <td>1<\/td>\n",
       "      <td>11.99<\/td>\n",
       "      <td>04\/30\/19 09:27<\/td>\n",
       "      <td>333 8th St, Los Angeles, CA 90001<\/td>\n",
       "      <td>4<\/td>\n",
       "      <td>11.99<\/td>\n",
       "      <td>Los Angeles-CA<\/td>\n",
       "    <\/tr>\n",
       "  <\/tbody>\n",
       "<\/table>\n",
       "<\/div>"
      ]
     },
     "metadata":{
      
     },
     "output_type":"display_data"
    }
   ],
   "metadata":{
    "datalore":{
     "type":"CODE",
     "hide_input_from_viewers":false,
     "hide_output_from_viewers":false
    }
   }
  },
  {
   "cell_type":"code",
   "source":[
    "result = all_of_data.groupby('City').sum()\n",
    "result"
   ],
   "execution_count":12,
   "outputs":[
    {
     "data":{
      "text\/html":[
       "<div>\n",
       "<style scoped>\n",
       "    .dataframe tbody tr th:only-of-type {\n",
       "        vertical-align: middle;\n",
       "    }\n",
       "\n",
       "    .dataframe tbody tr th {\n",
       "        vertical-align: top;\n",
       "    }\n",
       "\n",
       "    .dataframe thead th {\n",
       "        text-align: right;\n",
       "    }\n",
       "<\/style>\n",
       "<table border=\"1\" class=\"dataframe\">\n",
       "  <thead>\n",
       "    <tr style=\"text-align: right;\">\n",
       "      <th><\/th>\n",
       "      <th>Quantity Ordered<\/th>\n",
       "      <th>Price Each<\/th>\n",
       "      <th>Month<\/th>\n",
       "      <th>Sales<\/th>\n",
       "    <\/tr>\n",
       "    <tr>\n",
       "      <th>City<\/th>\n",
       "      <th><\/th>\n",
       "      <th><\/th>\n",
       "      <th><\/th>\n",
       "      <th><\/th>\n",
       "    <\/tr>\n",
       "  <\/thead>\n",
       "  <tbody>\n",
       "    <tr>\n",
       "      <th>Atlanta-GA<\/th>\n",
       "      <td>16602<\/td>\n",
       "      <td>2779908.20<\/td>\n",
       "      <td>104794<\/td>\n",
       "      <td>2795498.58<\/td>\n",
       "    <\/tr>\n",
       "    <tr>\n",
       "      <th>Austin-TX<\/th>\n",
       "      <td>11153<\/td>\n",
       "      <td>1809873.61<\/td>\n",
       "      <td>69829<\/td>\n",
       "      <td>1819581.75<\/td>\n",
       "    <\/tr>\n",
       "    <tr>\n",
       "      <th>Boston-MA<\/th>\n",
       "      <td>22528<\/td>\n",
       "      <td>3637409.77<\/td>\n",
       "      <td>141112<\/td>\n",
       "      <td>3661642.01<\/td>\n",
       "    <\/tr>\n",
       "    <tr>\n",
       "      <th>Dallas-TX<\/th>\n",
       "      <td>16730<\/td>\n",
       "      <td>2752627.82<\/td>\n",
       "      <td>104620<\/td>\n",
       "      <td>2767975.40<\/td>\n",
       "    <\/tr>\n",
       "    <tr>\n",
       "      <th>Los Angeles-CA<\/th>\n",
       "      <td>33289<\/td>\n",
       "      <td>5421435.23<\/td>\n",
       "      <td>208325<\/td>\n",
       "      <td>5452570.80<\/td>\n",
       "    <\/tr>\n",
       "    <tr>\n",
       "      <th>New York City-NY<\/th>\n",
       "      <td>27932<\/td>\n",
       "      <td>4635370.83<\/td>\n",
       "      <td>175741<\/td>\n",
       "      <td>4664317.43<\/td>\n",
       "    <\/tr>\n",
       "    <tr>\n",
       "      <th>Portland-ME<\/th>\n",
       "      <td>2750<\/td>\n",
       "      <td>447189.25<\/td>\n",
       "      <td>17144<\/td>\n",
       "      <td>449758.27<\/td>\n",
       "    <\/tr>\n",
       "    <tr>\n",
       "      <th>Portland-OR<\/th>\n",
       "      <td>11303<\/td>\n",
       "      <td>1860558.22<\/td>\n",
       "      <td>70621<\/td>\n",
       "      <td>1870732.34<\/td>\n",
       "    <\/tr>\n",
       "    <tr>\n",
       "      <th>San Francisco-CA<\/th>\n",
       "      <td>50239<\/td>\n",
       "      <td>8211461.74<\/td>\n",
       "      <td>315520<\/td>\n",
       "      <td>8262203.91<\/td>\n",
       "    <\/tr>\n",
       "    <tr>\n",
       "      <th>Seattle-WA<\/th>\n",
       "      <td>16553<\/td>\n",
       "      <td>2733296.01<\/td>\n",
       "      <td>104941<\/td>\n",
       "      <td>2747755.48<\/td>\n",
       "    <\/tr>\n",
       "  <\/tbody>\n",
       "<\/table>\n",
       "<\/div>"
      ]
     },
     "metadata":{
      
     },
     "output_type":"display_data"
    }
   ],
   "metadata":{
    "datalore":{
     "type":"CODE",
     "hide_input_from_viewers":false,
     "hide_output_from_viewers":false
    }
   }
  },
  {
   "cell_type":"code",
   "source":[
    "# we must do this that way cuz order matters\n",
    "\n",
    "# df is for data-frame we need 2 param's here\n",
    "cities = [city for city,df in all_of_data.groupby('City')]\n",
    "\n",
    "\n",
    "plt.bar(cities,result['Sales'])\n",
    "plt.xticks(cities, rotation='vertical')\n",
    "plt.ylabel('USD sales mld ($)')\n",
    "plt.xlabel('City name')\n",
    "plt.show()"
   ],
   "execution_count":13,
   "outputs":[
    {
     "data":{
      "image\/png":"[encoded data removed]"
     },
     "metadata":{
      "image\/png":{
       
      }
     },
     "output_type":"display_data"
    }
   ],
   "metadata":{
    "datalore":{
     "type":"CODE",
     "hide_input_from_viewers":false,
     "hide_output_from_viewers":false
    }
   }
  },
  {
   "cell_type":"markdown",
   "source":[
    "### Task3:What time should we display ad's to maximize likelihood of customer's buying product?"
   ],
   "attachments":{
    
   },
   "metadata":{
    "datalore":{
     "type":"MD",
     "hide_input_from_viewers":false,
     "hide_output_from_viewers":false
    }
   }
  },
  {
   "cell_type":"code",
   "source":[
    "#changing order date to datetime object\n",
    "\n",
    "all_of_data['Order Date'] = pd.to_datetime(all_of_data['Order Date'])"
   ],
   "execution_count":14,
   "outputs":[
    
   ],
   "metadata":{
    "datalore":{
     "type":"CODE",
     "hide_input_from_viewers":false,
     "hide_output_from_viewers":false
    }
   }
  },
  {
   "cell_type":"code",
   "source":[
    "all_of_data['Hour'] = all_of_data['Order Date'].dt.hour\n",
    "all_of_data['Minute'] = all_of_data['Order Date'].dt.minute\n",
    "all_of_data.head()"
   ],
   "execution_count":15,
   "outputs":[
    {
     "data":{
      "text\/html":[
       "<div>\n",
       "<style scoped>\n",
       "    .dataframe tbody tr th:only-of-type {\n",
       "        vertical-align: middle;\n",
       "    }\n",
       "\n",
       "    .dataframe tbody tr th {\n",
       "        vertical-align: top;\n",
       "    }\n",
       "\n",
       "    .dataframe thead th {\n",
       "        text-align: right;\n",
       "    }\n",
       "<\/style>\n",
       "<table border=\"1\" class=\"dataframe\">\n",
       "  <thead>\n",
       "    <tr style=\"text-align: right;\">\n",
       "      <th><\/th>\n",
       "      <th>Order ID<\/th>\n",
       "      <th>Product<\/th>\n",
       "      <th>Quantity Ordered<\/th>\n",
       "      <th>Price Each<\/th>\n",
       "      <th>Order Date<\/th>\n",
       "      <th>Purchase Address<\/th>\n",
       "      <th>Month<\/th>\n",
       "      <th>Sales<\/th>\n",
       "      <th>City<\/th>\n",
       "      <th>Hour<\/th>\n",
       "      <th>Minute<\/th>\n",
       "    <\/tr>\n",
       "  <\/thead>\n",
       "  <tbody>\n",
       "    <tr>\n",
       "      <th>0<\/th>\n",
       "      <td>176558<\/td>\n",
       "      <td>USB-C Charging Cable<\/td>\n",
       "      <td>2<\/td>\n",
       "      <td>11.95<\/td>\n",
       "      <td>2019-04-19 08:46:00<\/td>\n",
       "      <td>917 1st St, Dallas, TX 75001<\/td>\n",
       "      <td>4<\/td>\n",
       "      <td>23.90<\/td>\n",
       "      <td>Dallas-TX<\/td>\n",
       "      <td>8<\/td>\n",
       "      <td>46<\/td>\n",
       "    <\/tr>\n",
       "    <tr>\n",
       "      <th>2<\/th>\n",
       "      <td>176559<\/td>\n",
       "      <td>Bose SoundSport Headphones<\/td>\n",
       "      <td>1<\/td>\n",
       "      <td>99.99<\/td>\n",
       "      <td>2019-04-07 22:30:00<\/td>\n",
       "      <td>682 Chestnut St, Boston, MA 02215<\/td>\n",
       "      <td>4<\/td>\n",
       "      <td>99.99<\/td>\n",
       "      <td>Boston-MA<\/td>\n",
       "      <td>22<\/td>\n",
       "      <td>30<\/td>\n",
       "    <\/tr>\n",
       "    <tr>\n",
       "      <th>3<\/th>\n",
       "      <td>176560<\/td>\n",
       "      <td>Google Phone<\/td>\n",
       "      <td>1<\/td>\n",
       "      <td>600.00<\/td>\n",
       "      <td>2019-04-12 14:38:00<\/td>\n",
       "      <td>669 Spruce St, Los Angeles, CA 90001<\/td>\n",
       "      <td>4<\/td>\n",
       "      <td>600.00<\/td>\n",
       "      <td>Los Angeles-CA<\/td>\n",
       "      <td>14<\/td>\n",
       "      <td>38<\/td>\n",
       "    <\/tr>\n",
       "    <tr>\n",
       "      <th>4<\/th>\n",
       "      <td>176560<\/td>\n",
       "      <td>Wired Headphones<\/td>\n",
       "      <td>1<\/td>\n",
       "      <td>11.99<\/td>\n",
       "      <td>2019-04-12 14:38:00<\/td>\n",
       "      <td>669 Spruce St, Los Angeles, CA 90001<\/td>\n",
       "      <td>4<\/td>\n",
       "      <td>11.99<\/td>\n",
       "      <td>Los Angeles-CA<\/td>\n",
       "      <td>14<\/td>\n",
       "      <td>38<\/td>\n",
       "    <\/tr>\n",
       "    <tr>\n",
       "      <th>5<\/th>\n",
       "      <td>176561<\/td>\n",
       "      <td>Wired Headphones<\/td>\n",
       "      <td>1<\/td>\n",
       "      <td>11.99<\/td>\n",
       "      <td>2019-04-30 09:27:00<\/td>\n",
       "      <td>333 8th St, Los Angeles, CA 90001<\/td>\n",
       "      <td>4<\/td>\n",
       "      <td>11.99<\/td>\n",
       "      <td>Los Angeles-CA<\/td>\n",
       "      <td>9<\/td>\n",
       "      <td>27<\/td>\n",
       "    <\/tr>\n",
       "  <\/tbody>\n",
       "<\/table>\n",
       "<\/div>"
      ]
     },
     "metadata":{
      
     },
     "output_type":"display_data"
    }
   ],
   "metadata":{
    "datalore":{
     "type":"CODE",
     "hide_input_from_viewers":false,
     "hide_output_from_viewers":false
    }
   }
  },
  {
   "cell_type":"code",
   "source":[
    "hours = [hour for hour,df in all_of_data.groupby('Hour')]\n",
    "\n",
    "plt.plot(hours,all_of_data.groupby('Hour').count())\n",
    "plt.xticks(hours)\n",
    "plt.xlabel('Hour')\n",
    "plt.ylabel('Number of Orders')\n",
    "plt.grid()\n",
    "plt.show()"
   ],
   "execution_count":16,
   "outputs":[
    {
     "data":{
      "image\/png":"[encoded data removed]"
     },
     "metadata":{
      "image\/png":{
       
      }
     },
     "output_type":"display_data"
    }
   ],
   "metadata":{
    "datalore":{
     "type":"CODE",
     "hide_input_from_viewers":false,
     "hide_output_from_viewers":false
    }
   }
  },
  {
   "cell_type":"markdown",
   "source":[
    "### Task4:What products are most often sold together?"
   ],
   "attachments":{
    
   },
   "metadata":{
    "datalore":{
     "type":"MD",
     "hide_input_from_viewers":false,
     "hide_output_from_viewers":false
    }
   }
  },
  {
   "cell_type":"code",
   "source":[
    "df = all_of_data[all_of_data['Order ID'].duplicated(keep=False)]\n",
    "\n",
    "df['Grouped'] = df.groupby('Order ID')['Product'].transform(lambda x: ','.join(x))\n",
    "\n",
    "df = df[['Order ID', 'Grouped']].drop_duplicates()\n",
    "df.head()"
   ],
   "execution_count":17,
   "outputs":[
    {
     "name":"stderr",
     "text":[
      "<ipython-input-17-17db5f75a2c4>:3: SettingWithCopyWarning: \n",
      "A value is trying to be set on a copy of a slice from a DataFrame.\n",
      "Try using .loc[row_indexer,col_indexer] = value instead\n",
      "\n",
      "See the caveats in the documentation: https:\/\/pandas.pydata.org\/pandas-docs\/stable\/user_guide\/indexing.html#returning-a-view-versus-a-copy\n",
      "  df['Grouped'] = df.groupby('Order ID')['Product'].transform(lambda x: ','.join(x))\n"
     ],
     "output_type":"stream"
    },
    {
     "data":{
      "text\/html":[
       "<div>\n",
       "<style scoped>\n",
       "    .dataframe tbody tr th:only-of-type {\n",
       "        vertical-align: middle;\n",
       "    }\n",
       "\n",
       "    .dataframe tbody tr th {\n",
       "        vertical-align: top;\n",
       "    }\n",
       "\n",
       "    .dataframe thead th {\n",
       "        text-align: right;\n",
       "    }\n",
       "<\/style>\n",
       "<table border=\"1\" class=\"dataframe\">\n",
       "  <thead>\n",
       "    <tr style=\"text-align: right;\">\n",
       "      <th><\/th>\n",
       "      <th>Order ID<\/th>\n",
       "      <th>Grouped<\/th>\n",
       "    <\/tr>\n",
       "  <\/thead>\n",
       "  <tbody>\n",
       "    <tr>\n",
       "      <th>3<\/th>\n",
       "      <td>176560<\/td>\n",
       "      <td>Google Phone,Wired Headphones<\/td>\n",
       "    <\/tr>\n",
       "    <tr>\n",
       "      <th>18<\/th>\n",
       "      <td>176574<\/td>\n",
       "      <td>Google Phone,USB-C Charging Cable<\/td>\n",
       "    <\/tr>\n",
       "    <tr>\n",
       "      <th>30<\/th>\n",
       "      <td>176585<\/td>\n",
       "      <td>Bose SoundSport Headphones,Bose SoundSport Hea...<\/td>\n",
       "    <\/tr>\n",
       "    <tr>\n",
       "      <th>32<\/th>\n",
       "      <td>176586<\/td>\n",
       "      <td>AAA Batteries (4-pack),Google Phone<\/td>\n",
       "    <\/tr>\n",
       "    <tr>\n",
       "      <th>119<\/th>\n",
       "      <td>176672<\/td>\n",
       "      <td>Lightning Charging Cable,USB-C Charging Cable<\/td>\n",
       "    <\/tr>\n",
       "  <\/tbody>\n",
       "<\/table>\n",
       "<\/div>"
      ]
     },
     "metadata":{
      
     },
     "output_type":"display_data"
    }
   ],
   "metadata":{
    "datalore":{
     "type":"CODE",
     "hide_input_from_viewers":false,
     "hide_output_from_viewers":false
    }
   }
  },
  {
   "cell_type":"code",
   "source":[
    "from itertools import combinations\n",
    "from collections import Counter"
   ],
   "execution_count":18,
   "outputs":[
    
   ],
   "metadata":{
    "datalore":{
     "type":"CODE",
     "hide_input_from_viewers":false,
     "hide_output_from_viewers":false
    }
   }
  },
  {
   "cell_type":"code",
   "source":[
    "\n",
    "count = Counter()\n",
    "\n",
    "for row in df['Grouped']:\n",
    "    row_list = row.split(\",\")\n",
    "    count.update(Counter(combinations(row_list,2))) #2 most comon products sold together \n",
    "\n",
    "temp_keys =[]\n",
    "temp_values = []\n",
    "\n",
    "for key, value in count.most_common(10):\n",
    "    temp_keys.append(str(key[0])+\"<-with->\"+str(key[1]))\n",
    "    temp_values.append(value)\n",
    "\n",
    "\n",
    "\n",
    "series = pd.Series(temp_values,name=\"Most often sold together\")\n",
    "\n",
    "series.plot.pie(\n",
    "    labels =temp_keys,\n",
    "    colors=[\"r\", \"g\", \"b\", \"c\"],\n",
    "    autopct=\"%.2f %%\",\n",
    "    fontsize=10,\n",
    "    figsize=(6, 6),\n",
    "\n",
    ")\n",
    "\n",
    "plt.show()"
   ],
   "execution_count":19,
   "outputs":[
    {
     "data":{
      "image\/png":"[encoded data removed]"
     },
     "metadata":{
      "image\/png":{
       
      }
     },
     "output_type":"display_data"
    }
   ],
   "metadata":{
    "datalore":{
     "type":"CODE",
     "hide_input_from_viewers":false,
     "hide_output_from_viewers":false
    }
   }
  },
  {
   "cell_type":"markdown",
   "source":[
    "### Task5: What product sold the most?"
   ],
   "attachments":{
    
   },
   "metadata":{
    "datalore":{
     "type":"MD",
     "hide_input_from_viewers":false,
     "hide_output_from_viewers":false
    }
   }
  },
  {
   "cell_type":"code",
   "source":[
    "product_group = all_of_data.groupby('Product')\n",
    "\n",
    "quantity_ordered = product_group.sum()['Quantity Ordered']\n",
    "\n",
    "products = [product for product, df in product_group]\n",
    "\n",
    "plt.barh(products,quantity_ordered)\n",
    "plt.title(\"most sold\")\n",
    "plt.ylabel(\"Name of product\")\n",
    "plt.xlabel(\"number of items sold\")\n",
    "plt.yticks(size=12)\n",
    "plt.show()\n",
    "\n",
    "# plt.bar(products,quantity_ordered)\n",
    "# plt.xticks(products,rotation='vertical',size=10)"
   ],
   "execution_count":20,
   "outputs":[
    {
     "data":{
      "image\/png":"[encoded data removed]"
     },
     "metadata":{
      "image\/png":{
       
      }
     },
     "output_type":"display_data"
    }
   ],
   "metadata":{
    "datalore":{
     "type":"CODE",
     "hide_input_from_viewers":false,
     "hide_output_from_viewers":false
    }
   }
  },
  {
   "cell_type":"code",
   "source":[
    "prices = all_of_data.groupby('Product').mean()['Price Each']\n",
    "\n",
    "fig, ax1 = plt.subplots()\n",
    "\n",
    "ax2 = ax1.twinx()\n",
    "ax1.bar(products,quantity_ordered, color='g')\n",
    "ax2.plot(products,prices, color='r')\n",
    "\n",
    "ax1.set_xlabel('Product name')\n",
    "ax1.set_ylabel('Quantity Ordered',color = 'g')\n",
    "ax2.set_ylabel('Price ($)', color = 'r')\n",
    "ax1.set_xticklabels(products,rotation='vertical')\n",
    "\n",
    "plt.show()\n",
    "\n",
    "    "
   ],
   "execution_count":21,
   "outputs":[
    {
     "name":"stderr",
     "text":[
      "<ipython-input-21-01c5a6c9bb56>:12: UserWarning: FixedFormatter should only be used together with FixedLocator\n",
      "  ax1.set_xticklabels(products,rotation='vertical')\n"
     ],
     "output_type":"stream"
    },
    {
     "data":{
      "image\/png":"[encoded data removed]"
     },
     "metadata":{
      "image\/png":{
       
      }
     },
     "output_type":"display_data"
    }
   ],
   "metadata":{
    "datalore":{
     "type":"CODE",
     "hide_input_from_viewers":false,
     "hide_output_from_viewers":false
    }
   }
  },
  {
   "cell_type":"markdown",
   "source":[
    "## ZADANIE DODATKOWE NA ZAJECIACH"
   ],
   "attachments":{
    
   },
   "metadata":{
    "datalore":{
     "type":"MD",
     "hide_input_from_viewers":false,
     "hide_output_from_viewers":false
    }
   }
  },
  {
   "cell_type":"code",
   "source":[
    "\n",
    "# Calculate the simple average of the data\n",
    "result_avg = all_of_data.groupby('Month').sum()['Sales']\n",
    "months = range(1,13)\n",
    "average=[np.mean(result)['Sales']]*12\n",
    "fig,ax = plt.subplots()\n",
    "\n",
    "mean_line = ax.plot(months,average, label='Mean', linestyle='--')\n",
    "\n",
    "data = ax.plot(months,result_avg)\n",
    "\n",
    "plt.xlabel(\"Month\")\n",
    "plt.ylabel(\"Sales in mln ($)\")\n",
    "plt.grid()\n",
    "plt.show()"
   ],
   "execution_count":23,
   "outputs":[
    {
     "data":{
      "image\/png":"[encoded data removed]"
     },
     "metadata":{
      "image\/png":{
       
      }
     },
     "output_type":"display_data"
    }
   ],
   "metadata":{
    "datalore":{
     "type":"CODE",
     "hide_input_from_viewers":false,
     "hide_output_from_viewers":false
    }
   }
  }
 ],
 "metadata":{
  "datalore":{
   "version":1,
   "computation_mode":"JUPYTER",
   "package_manager":"pip",
   "base_environment":"default",
   "packages":[
    {
     "name":"jupyterlab",
     "version":"4.0.0a9",
     "source":"PIP"
    }
   ]
  }
 },
 "nbformat":4,
 "nbformat_minor":4
}